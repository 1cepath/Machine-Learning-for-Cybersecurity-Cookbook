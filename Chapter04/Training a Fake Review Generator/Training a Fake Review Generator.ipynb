{
 "cells": [
  {
   "cell_type": "code",
   "execution_count": 1,
   "metadata": {},
   "outputs": [],
   "source": [
    "import glob\n",
    "txt_files = glob.glob(\"reviews_corpus/*.txt\")"
   ]
  },
  {
   "cell_type": "code",
   "execution_count": 2,
   "metadata": {},
   "outputs": [],
   "source": [
    "reviews = [open(txt,\"r\").read() for txt in txt_files]"
   ]
  },
  {
   "cell_type": "code",
   "execution_count": 3,
   "metadata": {},
   "outputs": [
    {
     "data": {
      "text/plain": [
       "['\"Deathstalker\" of 1983 was an incredibly crappy movie, but in its own way incredibly entertaining and fun to watch, simply due to its value as an unintentional comedy. The first sequel, \"Deathstalker II: Duel Of The Titans\" of 1987 almost seems to be a spoof of its predecessor. As the first movie, \"Deathstalker 2\" is again extremely crappy and therefore quite funny, but it seems that director Jim Wynorski as well as the actors and everybody else connected with this film were actually willing to do a movie as crappy as possible on purpose. While the Deathstalker was basically a brutal and invincible Barbarian cheapo version of Conan played by muscleman Rick Hill in the first movie, the title character became a skinny guy with a tendency towards stupid jokes. The dialogue is even sillier and out of place than in the first movie (\"a cigar for the lady\", \"is that your sword or are you just happy to see me\"...), the acting is (intentionally?) terrible and hardly anything in the movie makes sense.<br /><br />The movie is set in some fantasy land and fantasy time that seems lie an in-between of the middle ages and the stone age. The fact that the people are clearly pagans, of course, doesn\\'t stop graves on cemeteries from having crosses on them. At one point of the movie a warrior explains that he had fought under Attila The Hun\\'s command, while his buddy has served for Ghenghis Khan. The fact that Attila The Hun died over 700 years before Ghenghis Kahn was even born is, of course, ignored. Scenes like these, and other oddities, should keep the viewer entertained. \"Deathstalker II\" also features an Amazon tribe and warriors with human bodies and pig heads (one of those was my favorite character in the first film). Some of the women are lovely to look at, especially Monique Gabrielle, who plays the female lead, and Maria Socas, who plays the Amazon Queen, are a treat for the eye. One of the main aims of \"Deathstalker II\" is to show breasts (although not quite as often as the first film), but sadly it fails to achieve the amount of gore featured in its predecessor. All said, \"Deathstalker II\" is an extremely crappy movie, but great fun to watch. I recommend to watch the first \"Deathstalker\" before watching this, and I personally laughed more during the first film, but I guess it doesn\\'t quite make a difference. People with a sense of humor and able to bear a bit of awfulness should certainly have a good time, 3/10',\n",
       " 'Anybody who thought the original \"Deathstalker\" (1983) was abysmal should skip its lightweight, lackluster sequel \"Deathstalker: Duel of the Titans\" with John Terlesky taking over the sword wielding duties from Rick Hill as the eponymous warrior hero. Indeed, \"Deathstalker 2\" looks like a threadbare straight-to-video sequel. This potboiler relies, much to \"Big Bad Mama\" director Jim Wynorski\\'s chagrin, on footage from its superior predecessor as well as generic Roger Corman footage. Furthermore, neither scenarist Neil Ruttenberg nor dialogue writer R.J. Robertson makes any mention of Deathstalker\\'s previous heroic exploits. <br /><br />Wynorski states on the commentary track that they tore up the first screenplay and reworked it because it was so terrible. \"Deathstalker 2\" is pretty terrible as it is, so one can only imagine how egregious the preliminary script must have been. This cardboard muscle man adventure springs no surprises on its audience, except for the automobile tire that appears in the garbage dump where Wynorski staged a scene and candidly admits that he missed during lensing. The sword fights lack energy, and the amateurish acting, particularly by Monique Gabrielle, is laughable. <br /><br />The first scene has our hero acting like Indiana Jones as he sneaks into a castle (the shot is lifted from Corman\\'s own movie \"The Terror,\" to steal a gem but then has to fight his way out. Since film boasts only the most minimal of budgets, lensed as it was on location in Argentina to lower costs, \"Deathstalker 2\" resembles a studio bound television comedy drama with our hero and heroine bickering with each other as they defend themselves from the adversaries. Like the original \"Deathstalker,\" \"Deathstalker 2\" pits our hero against an evil sorcerer, Jarek the Sorcerer (John Lazar of \"Scorpion\") who has magical powers. He has made a double of Princess Evie (Monique Gabrielle), cast Evie out to roam the kingdom, installed the double on the throne, and rules the kingdom. Reena, ostensibly calling herself a seer, recruits the \\'prince of thieves, Deathstalker (John Terlesky of \"Vampirella\") to help her recover her throne. Meanwhile, an evil female warrior Sultana (Toni Naples of \"Munchie\") is looking to kill Deathstalker, too. <br /><br />Predictably, it\\'s no picnic trying to slay Deathstalker as the nefarious Gen (Marcos Woinsky) learns. During one of the film\\'s more spectacular moments, our hero and heroine ride a gauntlet of explosive arrows as Gen and his A-Team of miscreants try to kill him. The scene in the crypt where Deathstalker escapes a crushing wall and saves Evie from a crowd of zombies is about as good as this cheesy epic gets. The only other scene that matches this occurs when Jarek kills a henchman during a conversation using water fountains to communicate. Jarek shoves his sword into the fountain and kills his incompetent henchman on the other side. Later, a tribe of Amazon warrior women capture Deathstalker and force him to defend his honor in a trial by combat. The Amazons hate Deathstalker\\'s reputation as a womanizer, and they square him off against a gigantic redhead who makes life miserable momentarily for Deathstalker.<br /><br />Like the original \"Deathstalker,\" the saving grace of \"Deathstalker 2\" is its self-effacing sense of humor. Unfortunately, there is not quite enough self-effacing humor to counteract the amateurish acting, formulaic script, and comic book bubble dialogue. The outtakes during the end credits are a bonus for anybody that hangs around long enough to enjoy them. Terlesky is more athletic than muscular. The horrendous hokum pays tribute to \"Rocky,\" \"Star Wars,\" \"Raiders of the Lost Ark,\" \"Escape from New York,\" and \"Goldfinger.\" Once is more than enough to see this forgettable fodder.',\n",
       " 'Enough!! Get over yourself! You seem to harbor the delusion that television is obligated to YOU to be honest and forthcoming. You expect truth and respect from a medium that continually demonstrates it is incapable of either. A medium that places cameras everywhere, and makes it known to the participants; a medium that terms it\\'s programming \"reality TV\" when NOBODY is real when they know they are being watched, appeals to the stupid among us. You seem to be well-educated, yet not bright enough to simply ignore network crap. You clearly have greater issues to deal with than to waste your time railing against the superficial perceptions of a \"give the public what it wants\" producer of a formula TV series.<br /><br />You fell in love with the series, and now you know better - move on. You were never part of the target audience; you simply thought you were. Learn to pick your battles - you can\\'t win this one, because your opinion is irrelevant to them. As you must know by now, THEY DON\\'T CARE!!<br /><br />I wish you well in dealing with the circumstance you find yourself in, and know that my prayers are with you. You have a bright mind, and you are better served using it to deal with what is real around you. Network television deserves no attention from you - you\\'re better than that.<br /><br />Focus yourself elsewhere; you\\'re better than you think.',\n",
       " \"She acts, she sings, she models, she produces! This is a live action movie based on a silly cartoon. Spy spoof movies are plentiful and generally don't have the best reputation. This one works as a takeoff of a popular cartoon. It is not, however, about the moose-and-squirrel. It is about Sally Kellerman. If you want to enjoy this lanky bombshell at her best, this is the place to be.\",\n",
       " \"I have to say, I'm really disappointed with this film. I'm a big fan of the Italian thriller known as the Giallo and while I went into this film knowing that it is not a Giallo; I was still hoping that director Luigi Comencini would be able to make the film interesting enough to at least be entertaining. The plot provides a decent base for a murder mystery flick and begins with a murder, which is promptly investigated by Commissioner Santamaria. Any chance of this being a good film is promptly cut away however by the fact that it's all so boring. The film contains practically no suspense whatsoever and while some of the exchanges between the lead characters are fairly interesting and there's a few red herrings thrown in; it really is very difficult to keep focused on The Sunday Woman. The performances are all rather flat too and most of the actors look about as bored as I must have looked watching the film. It's clear that the director wanted the film to be of high quality, and while the tatty VHS I saw it on does the film no favours, I have to say he didn't succeed there either. There's a score from the great Ennio Morricone and some Italian humour thrown in too; but I've seen better of both in other films. The Sunday Woman does have some favourable comments on it so maybe I'm just missing something here; but personally, I can't see much to like in this film.\"]"
      ]
     },
     "execution_count": 3,
     "metadata": {},
     "output_type": "execute_result"
    }
   ],
   "source": [
    "reviews"
   ]
  },
  {
   "cell_type": "code",
   "execution_count": 4,
   "metadata": {},
   "outputs": [],
   "source": [
    "text = \"\".join(reviews)"
   ]
  },
  {
   "cell_type": "code",
   "execution_count": 5,
   "metadata": {},
   "outputs": [],
   "source": [
    "chars_list = sorted(list(set(text)))\n",
    "charToIndexDict = {character: chars_list.index(character) for character in chars_list}"
   ]
  },
  {
   "cell_type": "code",
   "execution_count": 6,
   "metadata": {},
   "outputs": [
    {
     "data": {
      "text/plain": [
       "{' ': 0,\n",
       " '!': 1,\n",
       " '\"': 2,\n",
       " \"'\": 3,\n",
       " '(': 4,\n",
       " ')': 5,\n",
       " ',': 6,\n",
       " '-': 7,\n",
       " '.': 8,\n",
       " '/': 9,\n",
       " '0': 10,\n",
       " '1': 11,\n",
       " '2': 12,\n",
       " '3': 13,\n",
       " '7': 14,\n",
       " '8': 15,\n",
       " '9': 16,\n",
       " ':': 17,\n",
       " ';': 18,\n",
       " '<': 19,\n",
       " '>': 20,\n",
       " '?': 21,\n",
       " 'A': 22,\n",
       " 'B': 23,\n",
       " 'C': 24,\n",
       " 'D': 25,\n",
       " 'E': 26,\n",
       " 'F': 27,\n",
       " 'G': 28,\n",
       " 'H': 29,\n",
       " 'I': 30,\n",
       " 'J': 31,\n",
       " 'K': 32,\n",
       " 'L': 33,\n",
       " 'M': 34,\n",
       " 'N': 35,\n",
       " 'O': 36,\n",
       " 'P': 37,\n",
       " 'Q': 38,\n",
       " 'R': 39,\n",
       " 'S': 40,\n",
       " 'T': 41,\n",
       " 'U': 42,\n",
       " 'V': 43,\n",
       " 'W': 44,\n",
       " 'Y': 45,\n",
       " 'a': 46,\n",
       " 'b': 47,\n",
       " 'c': 48,\n",
       " 'd': 49,\n",
       " 'e': 50,\n",
       " 'f': 51,\n",
       " 'g': 52,\n",
       " 'h': 53,\n",
       " 'i': 54,\n",
       " 'j': 55,\n",
       " 'k': 56,\n",
       " 'l': 57,\n",
       " 'm': 58,\n",
       " 'n': 59,\n",
       " 'o': 60,\n",
       " 'p': 61,\n",
       " 'q': 62,\n",
       " 'r': 63,\n",
       " 's': 64,\n",
       " 't': 65,\n",
       " 'u': 66,\n",
       " 'v': 67,\n",
       " 'w': 68,\n",
       " 'x': 69,\n",
       " 'y': 70,\n",
       " 'z': 71}"
      ]
     },
     "execution_count": 6,
     "metadata": {},
     "output_type": "execute_result"
    }
   ],
   "source": [
    "charToIndexDict"
   ]
  },
  {
   "cell_type": "code",
   "execution_count": 62,
   "metadata": {},
   "outputs": [],
   "source": [
    "import keras\n",
    "from keras import layers\n",
    "maxLength=70\n",
    "rnn = keras.models.Sequential()\n",
    "rnn.add(layers.LSTM(1024, input_shape=(maxLength, len(chars_list)),return_sequences=True))\n",
    "rnn.add(layers.LSTM(1024, input_shape=(maxLength, len(chars_list))))\n",
    "rnn.add(layers.Dense(len(chars_list), activation='softmax'))"
   ]
  },
  {
   "cell_type": "code",
   "execution_count": 63,
   "metadata": {},
   "outputs": [],
   "source": [
    "optimizer = keras.optimizers.SGD(lr=0.01, decay=1e-6, nesterov=True) \n",
    "rnn.compile(loss='categorical_crossentropy', optimizer=optimizer)"
   ]
  },
  {
   "cell_type": "code",
   "execution_count": 64,
   "metadata": {},
   "outputs": [],
   "source": [
    "import numpy as np\n",
    "def textToVector(input_txt, maxLength):\n",
    "    sentences = []\n",
    "    next_characters = []\n",
    "    for i in range(0, len(input_txt) - maxLength):\n",
    "        sentences.append(input_txt[i : i + maxLength])\n",
    "        next_characters.append(input_txt[i + maxLength])\n",
    "    X = np.zeros((len(sentences), maxLength, len(chars_list)))\n",
    "    y = np.zeros((len(sentences), len(chars_list)))\n",
    "    for i, sentence in enumerate(sentences):\n",
    "        for t, char in enumerate(sentence):\n",
    "            X[i, t, charToIndexDict[char]] = 1\n",
    "            y[i, charToIndexDict[next_characters[i]]] = 1\n",
    "    return [X, y]"
   ]
  },
  {
   "cell_type": "code",
   "execution_count": 65,
   "metadata": {},
   "outputs": [],
   "source": [
    "X,y = textToVector(text, maxLength)"
   ]
  },
  {
   "cell_type": "code",
   "execution_count": null,
   "metadata": {},
   "outputs": [
    {
     "name": "stdout",
     "output_type": "stream",
     "text": [
      "Epoch 1/1\n",
      "29440/35180 [========================>.....] - ETA: 3:50 - loss: 3.3581"
     ]
    }
   ],
   "source": [
    "rnn.fit(X, y, batch_size=256, epochs=1)"
   ]
  },
  {
   "cell_type": "code",
   "execution_count": 67,
   "metadata": {},
   "outputs": [],
   "source": [
    "rnn.save_weights('weights.hdf5')"
   ]
  },
  {
   "cell_type": "code",
   "execution_count": null,
   "metadata": {},
   "outputs": [],
   "source": []
  }
 ],
 "metadata": {
  "kernelspec": {
   "display_name": "Python 3",
   "language": "python",
   "name": "python3"
  },
  "language_info": {
   "codemirror_mode": {
    "name": "ipython",
    "version": 3
   },
   "file_extension": ".py",
   "mimetype": "text/x-python",
   "name": "python",
   "nbconvert_exporter": "python",
   "pygments_lexer": "ipython3",
   "version": "3.6.8"
  }
 },
 "nbformat": 4,
 "nbformat_minor": 2
}
