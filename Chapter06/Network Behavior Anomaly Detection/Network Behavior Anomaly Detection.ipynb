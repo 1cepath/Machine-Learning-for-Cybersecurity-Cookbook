{
 "cells": [
  {
   "cell_type": "code",
   "execution_count": 1,
   "metadata": {},
   "outputs": [],
   "source": [
    "import pandas as pd\n",
    "kdd_df = pd.read_csv(\"kddcup_dataset.csv\", index_col=None)"
   ]
  },
  {
   "cell_type": "code",
   "execution_count": 2,
   "metadata": {},
   "outputs": [
    {
     "data": {
      "text/html": [
       "<div>\n",
       "<style scoped>\n",
       "    .dataframe tbody tr th:only-of-type {\n",
       "        vertical-align: middle;\n",
       "    }\n",
       "\n",
       "    .dataframe tbody tr th {\n",
       "        vertical-align: top;\n",
       "    }\n",
       "\n",
       "    .dataframe thead th {\n",
       "        text-align: right;\n",
       "    }\n",
       "</style>\n",
       "<table border=\"1\" class=\"dataframe\">\n",
       "  <thead>\n",
       "    <tr style=\"text-align: right;\">\n",
       "      <th></th>\n",
       "      <th>duration</th>\n",
       "      <th>\"protocol_type\"</th>\n",
       "      <th>\"flag\"</th>\n",
       "      <th>\"src_bytes\"</th>\n",
       "      <th>\"dst_bytes\"</th>\n",
       "      <th>\"land\"</th>\n",
       "      <th>\"wrong_fragment\"</th>\n",
       "      <th>\"urgent\"</th>\n",
       "      <th>hot</th>\n",
       "      <th>\"num_failed_logins\"</th>\n",
       "      <th>...</th>\n",
       "      <th>\"dst_host_srv_count\"</th>\n",
       "      <th>\"dst_host_same_srv_rate\"</th>\n",
       "      <th>\"dst_host_diff_srv_rate\"</th>\n",
       "      <th>\"dst_host_same_src_port_rate\"</th>\n",
       "      <th>\"dst_host_srv_diff_host_rate\"</th>\n",
       "      <th>dst_host_serror_rate</th>\n",
       "      <th>\"dst_host_srv_serror_rate\"</th>\n",
       "      <th>\"dst_host_rerror_rate\"</th>\n",
       "      <th>\"dst_host_srv_rerror_rate\"</th>\n",
       "      <th>label</th>\n",
       "    </tr>\n",
       "  </thead>\n",
       "  <tbody>\n",
       "    <tr>\n",
       "      <td>0</td>\n",
       "      <td>0</td>\n",
       "      <td>tcp</td>\n",
       "      <td>SF</td>\n",
       "      <td>223</td>\n",
       "      <td>185</td>\n",
       "      <td>0</td>\n",
       "      <td>0</td>\n",
       "      <td>0</td>\n",
       "      <td>0</td>\n",
       "      <td>0</td>\n",
       "      <td>...</td>\n",
       "      <td>255</td>\n",
       "      <td>1</td>\n",
       "      <td>0</td>\n",
       "      <td>1</td>\n",
       "      <td>1</td>\n",
       "      <td>0</td>\n",
       "      <td>0</td>\n",
       "      <td>0</td>\n",
       "      <td>0</td>\n",
       "      <td>normal</td>\n",
       "    </tr>\n",
       "    <tr>\n",
       "      <td>1</td>\n",
       "      <td>0</td>\n",
       "      <td>tcp</td>\n",
       "      <td>SF</td>\n",
       "      <td>230</td>\n",
       "      <td>260</td>\n",
       "      <td>0</td>\n",
       "      <td>0</td>\n",
       "      <td>0</td>\n",
       "      <td>0</td>\n",
       "      <td>0</td>\n",
       "      <td>...</td>\n",
       "      <td>255</td>\n",
       "      <td>1</td>\n",
       "      <td>0</td>\n",
       "      <td>33</td>\n",
       "      <td>7</td>\n",
       "      <td>33</td>\n",
       "      <td>0</td>\n",
       "      <td>0</td>\n",
       "      <td>0</td>\n",
       "      <td>normal</td>\n",
       "    </tr>\n",
       "    <tr>\n",
       "      <td>2</td>\n",
       "      <td>0</td>\n",
       "      <td>tcp</td>\n",
       "      <td>SF</td>\n",
       "      <td>297</td>\n",
       "      <td>13787</td>\n",
       "      <td>0</td>\n",
       "      <td>0</td>\n",
       "      <td>0</td>\n",
       "      <td>0</td>\n",
       "      <td>0</td>\n",
       "      <td>...</td>\n",
       "      <td>255</td>\n",
       "      <td>1</td>\n",
       "      <td>0</td>\n",
       "      <td>1</td>\n",
       "      <td>1</td>\n",
       "      <td>0</td>\n",
       "      <td>0</td>\n",
       "      <td>0</td>\n",
       "      <td>0</td>\n",
       "      <td>normal</td>\n",
       "    </tr>\n",
       "    <tr>\n",
       "      <td>3</td>\n",
       "      <td>0</td>\n",
       "      <td>tcp</td>\n",
       "      <td>SF</td>\n",
       "      <td>291</td>\n",
       "      <td>3542</td>\n",
       "      <td>0</td>\n",
       "      <td>0</td>\n",
       "      <td>0</td>\n",
       "      <td>0</td>\n",
       "      <td>0</td>\n",
       "      <td>...</td>\n",
       "      <td>255</td>\n",
       "      <td>1</td>\n",
       "      <td>0</td>\n",
       "      <td>1</td>\n",
       "      <td>1</td>\n",
       "      <td>0</td>\n",
       "      <td>0</td>\n",
       "      <td>0</td>\n",
       "      <td>0</td>\n",
       "      <td>normal</td>\n",
       "    </tr>\n",
       "    <tr>\n",
       "      <td>4</td>\n",
       "      <td>0</td>\n",
       "      <td>tcp</td>\n",
       "      <td>SF</td>\n",
       "      <td>295</td>\n",
       "      <td>753</td>\n",
       "      <td>0</td>\n",
       "      <td>0</td>\n",
       "      <td>0</td>\n",
       "      <td>0</td>\n",
       "      <td>0</td>\n",
       "      <td>...</td>\n",
       "      <td>255</td>\n",
       "      <td>1</td>\n",
       "      <td>0</td>\n",
       "      <td>1</td>\n",
       "      <td>1</td>\n",
       "      <td>0</td>\n",
       "      <td>0</td>\n",
       "      <td>0</td>\n",
       "      <td>0</td>\n",
       "      <td>normal</td>\n",
       "    </tr>\n",
       "  </tbody>\n",
       "</table>\n",
       "<p>5 rows × 41 columns</p>\n",
       "</div>"
      ],
      "text/plain": [
       "   duration  \"protocol_type\"  \"flag\"   \"src_bytes\"   \"dst_bytes\"   \"land\"  \\\n",
       "0         0              tcp      SF           223           185        0   \n",
       "1         0              tcp      SF           230           260        0   \n",
       "2         0              tcp      SF           297         13787        0   \n",
       "3         0              tcp      SF           291          3542        0   \n",
       "4         0              tcp      SF           295           753        0   \n",
       "\n",
       "    \"wrong_fragment\"   \"urgent\"  hot   \"num_failed_logins\"  ...  \\\n",
       "0                  0          0    0                     0  ...   \n",
       "1                  0          0    0                     0  ...   \n",
       "2                  0          0    0                     0  ...   \n",
       "3                  0          0    0                     0  ...   \n",
       "4                  0          0    0                     0  ...   \n",
       "\n",
       "    \"dst_host_srv_count\"   \"dst_host_same_srv_rate\"  \\\n",
       "0                    255                          1   \n",
       "1                    255                          1   \n",
       "2                    255                          1   \n",
       "3                    255                          1   \n",
       "4                    255                          1   \n",
       "\n",
       "    \"dst_host_diff_srv_rate\"   \"dst_host_same_src_port_rate\"  \\\n",
       "0                          0                               1   \n",
       "1                          0                              33   \n",
       "2                          0                               1   \n",
       "3                          0                               1   \n",
       "4                          0                               1   \n",
       "\n",
       "    \"dst_host_srv_diff_host_rate\"  dst_host_serror_rate  \\\n",
       "0                               1                     0   \n",
       "1                               7                    33   \n",
       "2                               1                     0   \n",
       "3                               1                     0   \n",
       "4                               1                     0   \n",
       "\n",
       "    \"dst_host_srv_serror_rate\"   \"dst_host_rerror_rate\"  \\\n",
       "0                            0                        0   \n",
       "1                            0                        0   \n",
       "2                            0                        0   \n",
       "3                            0                        0   \n",
       "4                            0                        0   \n",
       "\n",
       "    \"dst_host_srv_rerror_rate\"   label  \n",
       "0                            0  normal  \n",
       "1                            0  normal  \n",
       "2                            0  normal  \n",
       "3                            0  normal  \n",
       "4                            0  normal  \n",
       "\n",
       "[5 rows x 41 columns]"
      ]
     },
     "execution_count": 2,
     "metadata": {},
     "output_type": "execute_result"
    }
   ],
   "source": [
    "kdd_df.head()"
   ]
  },
  {
   "cell_type": "code",
   "execution_count": 3,
   "metadata": {},
   "outputs": [
    {
     "data": {
      "text/plain": [
       "(41237, 41)"
      ]
     },
     "execution_count": 3,
     "metadata": {},
     "output_type": "execute_result"
    }
   ],
   "source": [
    "kdd_df.shape"
   ]
  },
  {
   "cell_type": "code",
   "execution_count": 4,
   "metadata": {},
   "outputs": [
    {
     "data": {
      "text/plain": [
       "[('normal', 39247),\n",
       " ('back', 1098),\n",
       " ('apache2', 794),\n",
       " ('neptune', 93),\n",
       " ('phf', 2),\n",
       " ('portsweep', 2),\n",
       " ('saint', 1)]"
      ]
     },
     "execution_count": 4,
     "metadata": {},
     "output_type": "execute_result"
    }
   ],
   "source": [
    "y = kdd_df[\"label\"].values\n",
    "from collections import Counter\n",
    "Counter(y).most_common()"
   ]
  },
  {
   "cell_type": "code",
   "execution_count": 5,
   "metadata": {},
   "outputs": [],
   "source": [
    "def labelAnomalous(text):\n",
    "    if text == \"normal\":\n",
    "        return 0\n",
    "    else:\n",
    "        return 1"
   ]
  },
  {
   "cell_type": "code",
   "execution_count": 6,
   "metadata": {},
   "outputs": [],
   "source": [
    "kdd_df['label'] = kdd_df['label'].apply(labelAnomalous)"
   ]
  },
  {
   "cell_type": "code",
   "execution_count": 7,
   "metadata": {},
   "outputs": [],
   "source": [
    "y = kdd_df[\"label\"].values\n",
    "counts = Counter(y).most_common()\n",
    "contaminationParameter = counts[1][1]/(counts[0][1]+counts[1][1])"
   ]
  },
  {
   "cell_type": "code",
   "execution_count": 8,
   "metadata": {},
   "outputs": [],
   "source": [
    "from sklearn.preprocessing import LabelEncoder\n",
    "encodings_dictionary = dict()\n",
    "for c in kdd_df.columns:\n",
    "    if kdd_df[c].dtype == \"object\":\n",
    "        encodings_dictionary[c] = LabelEncoder()\n",
    "        kdd_df[c] = encodings_dictionary[c].fit_transform(kdd_df[c])"
   ]
  },
  {
   "cell_type": "code",
   "execution_count": 9,
   "metadata": {},
   "outputs": [],
   "source": [
    "kdd_df_normal = kdd_df[kdd_df[\"label\"] == 0]\n",
    "kdd_df_abnormal = kdd_df[kdd_df[\"label\"] == 1]"
   ]
  },
  {
   "cell_type": "code",
   "execution_count": 10,
   "metadata": {},
   "outputs": [],
   "source": [
    "y_normal = kdd_df_normal.pop(\"label\").values\n",
    "X_normal = kdd_df_normal.values\n",
    "y_anomaly = kdd_df_abnormal.pop(\"label\").values\n",
    "X_anomaly = kdd_df_abnormal.values"
   ]
  },
  {
   "cell_type": "code",
   "execution_count": 19,
   "metadata": {},
   "outputs": [],
   "source": [
    "from sklearn.model_selection import train_test_split\n",
    "X_normal_train, X_normal_test, y_normal_train, y_normal_test = train_test_split(X_normal, y_normal,test_size=0.3, random_state=11)"
   ]
  },
  {
   "cell_type": "code",
   "execution_count": 20,
   "metadata": {},
   "outputs": [],
   "source": [
    "X_anomaly_train, X_anomaly_test, y_anomaly_train, y_anomaly_test = train_test_split(X_anomaly, y_anomaly, test_size=0.3, random_state=11)"
   ]
  },
  {
   "cell_type": "code",
   "execution_count": 21,
   "metadata": {},
   "outputs": [],
   "source": [
    "import numpy as np\n",
    "X_train = np.concatenate((X_normal_train, X_anomaly_train))\n",
    "y_train = np.concatenate((y_normal_train, y_anomaly_train))\n",
    "X_test = np.concatenate((X_normal_test, X_anomaly_test))\n",
    "y_test = np.concatenate((y_normal_test, y_anomaly_test))"
   ]
  },
  {
   "cell_type": "code",
   "execution_count": 26,
   "metadata": {},
   "outputs": [],
   "source": [
    "from sklearn.ensemble import IsolationForest\n",
    "IF = IsolationForest(contamination=contaminationParameter)"
   ]
  },
  {
   "cell_type": "code",
   "execution_count": 27,
   "metadata": {},
   "outputs": [
    {
     "name": "stderr",
     "output_type": "stream",
     "text": [
      "c:\\users\\etsukerman\\appdata\\local\\programs\\python\\python36\\lib\\site-packages\\sklearn\\ensemble\\iforest.py:247: FutureWarning: behaviour=\"old\" is deprecated and will be removed in version 0.22. Please use behaviour=\"new\", which makes the decision_function change to match other anomaly detection algorithm API.\n",
      "  FutureWarning)\n"
     ]
    },
    {
     "data": {
      "text/plain": [
       "IsolationForest(behaviour='old', bootstrap=False,\n",
       "                contamination=0.04825763270848995, max_features=1.0,\n",
       "                max_samples='auto', n_estimators=100, n_jobs=None,\n",
       "                random_state=None, verbose=0, warm_start=False)"
      ]
     },
     "execution_count": 27,
     "metadata": {},
     "output_type": "execute_result"
    }
   ],
   "source": [
    "IF.fit(X_train)"
   ]
  },
  {
   "cell_type": "code",
   "execution_count": 28,
   "metadata": {},
   "outputs": [],
   "source": [
    "decisionScores_train_normal = IF.decision_function(X_normal_train)\n",
    "decisionScores_train_anomaly = IF.decision_function(X_anomaly_train)"
   ]
  },
  {
   "cell_type": "code",
   "execution_count": 31,
   "metadata": {},
   "outputs": [
    {
     "data": {
      "image/png": "[encoded data removed]",
      "text/plain": [
       "<Figure size 1440x720 with 1 Axes>"
      ]
     },
     "metadata": {
      "needs_background": "light"
     },
     "output_type": "display_data"
    }
   ],
   "source": [
    "import matplotlib.pyplot as plt\n",
    "%matplotlib inline\n",
    "plt.figure(figsize=(20, 10))\n",
    "_ = plt.hist(decisionScores_train_normal, bins=50)"
   ]
  },
  {
   "cell_type": "code",
   "execution_count": 32,
   "metadata": {},
   "outputs": [
    {
     "data": {
      "image/png": "[encoded data removed]",
      "text/plain": [
       "<Figure size 1440x720 with 1 Axes>"
      ]
     },
     "metadata": {
      "needs_background": "light"
     },
     "output_type": "display_data"
    }
   ],
   "source": [
    "plt.figure(figsize=(20, 10))\n",
    "_ = plt.hist(decisionScores_train_anomaly, bins=50)"
   ]
  },
  {
   "cell_type": "code",
   "execution_count": 33,
   "metadata": {},
   "outputs": [],
   "source": [
    "cutoff = 0"
   ]
  },
  {
   "cell_type": "code",
   "execution_count": 39,
   "metadata": {},
   "outputs": [
    {
     "name": "stdout",
     "output_type": "stream",
     "text": [
      "Counter({0: 11775, 1: 597})\n",
      "Counter({1: 595, 0: 85})\n"
     ]
    }
   ],
   "source": [
    "print(Counter(y_test))\n",
    "print(Counter(y_test[cutoff>IF.decision_function(X_test)]))"
   ]
  },
  {
   "cell_type": "code",
   "execution_count": null,
   "metadata": {},
   "outputs": [],
   "source": []
  }
 ],
 "metadata": {
  "kernelspec": {
   "display_name": "Python 3",
   "language": "python",
   "name": "python3"
  },
  "language_info": {
   "codemirror_mode": {
    "name": "ipython",
    "version": 3
   },
   "file_extension": ".py",
   "mimetype": "text/x-python",
   "name": "python",
   "nbconvert_exporter": "python",
   "pygments_lexer": "ipython3",
   "version": "3.6.8"
  }
 },
 "nbformat": 4,
 "nbformat_minor": 2
}
