{
 "cells": [
  {
   "cell_type": "code",
   "execution_count": 1,
   "metadata": {},
   "outputs": [],
   "source": [
    "import os\n",
    "directoriesWithLabels = [(\"Benign PE Samples\",0), (\"Malicious PE Samples\",1)]\n",
    "listOfSamples = []\n",
    "labels = []\n",
    "for datasetPath, label in directoriesWithLabels:\n",
    "    samples = [f for f in listdir(datasetPath)]\n",
    "    for sample in samples:\n",
    "        filePath = os.path.join(datasetPath, sample)\n",
    "        listOfSamples.append(filePath)\n",
    "        labels.append(label)"
   ]
  },
  {
   "cell_type": "code",
   "execution_count": 2,
   "metadata": {},
   "outputs": [],
   "source": [
    "from sklearn.model_selection import train_test_split\n",
    "samples_train, samples_test, labels_train, labels_test = train_test_split(listOfSamples, labels, test_size=0.3, stratify=labels, random_state=11)"
   ]
  },
  {
   "cell_type": "code",
   "execution_count": 3,
   "metadata": {},
   "outputs": [],
   "source": [
    "import collections\n",
    "from nltk import ngrams\n",
    "import numpy as np\n",
    "import pefile\n",
    "\n",
    "def readFile(filePath):\n",
    "    with open(filePath, \"rb\") as binary_file:\n",
    "        data = binary_file.read()\n",
    "    return data\n",
    "\n",
    "def byteSequenceToNgrams(byteSequence, N):\n",
    "    Ngrams = ngrams(byteSequence, N)\n",
    "    return list(Ngrams)\n",
    "\n",
    "def binaryFileToNgramCounts(sample, N):\n",
    "    fileByteSequence = readFile(sample)\n",
    "    fileNgrams = byteSequenceToNgrams(fileByteSequence, N)\n",
    "    return collections.Counter(fileNgrams)\n",
    "\n",
    "def getNGramFeaturesFromSample(file, K1_most_frequent_Ngrams_list):\n",
    "    K1 = len(K1_most_frequent_Ngrams_list)\n",
    "    fv = K1*[0]\n",
    "    fileNgrams = binaryFileToNgramCounts(sample, N)\n",
    "    for i in range(K1):\n",
    "        fv[i]=fileNgrams[K1_most_frequent_Ngrams_list[i]]\n",
    "    return fv\n",
    "\n",
    "def preprocessImports(listOfDLLs):\n",
    "    processedListOfDLLs = []\n",
    "    tempDllList = [x.decode().split(\".\")[0].lower() for x in listOfDLLs]\n",
    "    return \" \".join(tempDllList)\n",
    "\n",
    "def getImports(pe):\n",
    "    listOfImports = []\n",
    "    for entry in pe.DIRECTORY_ENTRY_IMPORT:\n",
    "        listOfImports.append(entry.dll)\n",
    "    return preprocessImports(listOfImports)\n",
    "\n",
    "def getSectionNames(pe):\n",
    "    listOfSectionNames = []\n",
    "    for sec in pe.sections:\n",
    "        normalized_name = sec.Name.decode().replace('\\x00','').lower()\n",
    "        listOfSectionNames.append(normalized_name)\n",
    "    return \" \".join(listOfSectionNames)"
   ]
  },
  {
   "cell_type": "code",
   "execution_count": 4,
   "metadata": {},
   "outputs": [],
   "source": [
    "N=2\n",
    "NgramCountsAll = collections.Counter([])\n",
    "for sample in samples_train:\n",
    "    NgramCountsAll += binaryFileToNgramCounts(sample, N)\n",
    "K1 = 100\n",
    "K1_most_frequent_Ngrams = NgramCountsAll.most_common(K1)\n",
    "K1_most_frequent_Ngrams_list = [x[0] for x in K1_most_frequent_Ngrams]"
   ]
  },
  {
   "cell_type": "code",
   "execution_count": 5,
   "metadata": {},
   "outputs": [
    {
     "name": "stdout",
     "output_type": "stream",
     "text": [
      "Benign PE Samples\\lpr.exe:\n",
      "'DOS Header magic not found.'\n",
      "Malicious PE Samples\\Build.exe:\n",
      "'utf-8' codec can't decode byte 0xd2 in position 6: invalid continuation byte\n",
      "Benign PE Samples\\ADSchemaAnalyzer.exe:\n",
      "'DOS Header magic not found.'\n",
      "Benign PE Samples\\evntwin.exe:\n",
      "'DOS Header magic not found.'\n",
      "Benign PE Samples\\dplaysvr.exe:\n",
      "'DOS Header magic not found.'\n",
      "Benign PE Samples\\cmak.exe:\n",
      "'DOS Header magic not found.'\n",
      "Benign PE Samples\\BootExpCfg.exe:\n",
      "'DOS Header magic not found.'\n",
      "Benign PE Samples\\dsdbutil.exe:\n",
      "'DOS Header magic not found.'\n",
      "Benign PE Samples\\InetMgr.exe:\n",
      "'DOS Header magic not found.'\n",
      "Benign PE Samples\\lpq.exe:\n",
      "'DOS Header magic not found.'\n",
      "Benign PE Samples\\ldp.exe:\n",
      "'DOS Header magic not found.'\n",
      "Benign PE Samples\\hvsimgr.exe:\n",
      "'DOS Header magic not found.'\n",
      "Malicious PE Samples\\malware.exe:\n",
      "'PE' object has no attribute 'DIRECTORY_ENTRY_IMPORT'\n",
      "Benign PE Samples\\eshell.exe:\n",
      "'DOS Header magic not found.'\n",
      "Benign PE Samples\\InspectVhdDialog6.3.exe:\n",
      "'DOS Header magic not found.'\n",
      "Benign PE Samples\\hvsirpcd.exe:\n",
      "'DOS Header magic not found.'\n",
      "Benign PE Samples\\hcsdiag.exe:\n",
      "'DOS Header magic not found.'\n",
      "Benign PE Samples\\AppVStreamingUX.exe:\n",
      "'PE' object has no attribute 'DIRECTORY_ENTRY_IMPORT'\n",
      "Benign PE Samples\\InspectVhdDialog6.2.exe:\n",
      "'DOS Header magic not found.'\n",
      "Benign PE Samples\\dsamain.exe:\n",
      "'DOS Header magic not found.'\n",
      "Benign PE Samples\\LogCollector.exe:\n",
      "'DOS Header magic not found.'\n",
      "Benign PE Samples\\InetMgr6.exe:\n",
      "'DOS Header magic not found.'\n",
      "Benign PE Samples\\dsacls.exe:\n",
      "'DOS Header magic not found.'\n",
      "Malicious PE Samples\\wirelesskeyview.exe:\n",
      "'utf-8' codec can't decode byte 0xff in position 1: invalid start byte\n",
      "Benign PE Samples\\hvsirdpclient.exe:\n",
      "'DOS Header magic not found.'\n",
      "Benign PE Samples\\appcmd.exe:\n",
      "'DOS Header magic not found.'\n",
      "Benign PE Samples\\ldifde.exe:\n",
      "'DOS Header magic not found.'\n",
      "Benign PE Samples\\hvc.exe:\n",
      "'DOS Header magic not found.'\n",
      "Benign PE Samples\\CExecSvc.exe:\n",
      "'DOS Header magic not found.'\n",
      "Benign PE Samples\\c2wtshost.exe:\n",
      "'DOS Header magic not found.'\n",
      "Benign PE Samples\\csvde.exe:\n",
      "'DOS Header magic not found.'\n",
      "Benign PE Samples\\adamuninstall.exe:\n",
      "'DOS Header magic not found.'\n",
      "Benign PE Samples\\CCG.exe:\n",
      "'DOS Header magic not found.'\n",
      "Benign PE Samples\\dpnsvr.exe:\n",
      "'DOS Header magic not found.'\n",
      "Benign PE Samples\\iisreset.exe:\n",
      "'DOS Header magic not found.'\n",
      "Benign PE Samples\\evntcmd.exe:\n",
      "'DOS Header magic not found.'\n"
     ]
    }
   ],
   "source": [
    "importsCorpus_train = []\n",
    "numSections_train = []\n",
    "sectionNames_train = []\n",
    "NgramFeaturesList_train = []\n",
    "y_train = []\n",
    "for i in range(len(samples_train)):\n",
    "    sample = samples_train[i]\n",
    "    try:\n",
    "        NGramFeatures = getNGramFeaturesFromSample(sample, K1_most_frequent_Ngrams_list)\n",
    "        pe = pefile.PE(sample)\n",
    "        imports = getImports(pe)\n",
    "        nSections = len(pe.sections)\n",
    "        secNames = getSectionNames(pe)\n",
    "        importsCorpus_train.append(imports)\n",
    "        numSections_train.append(nSections)\n",
    "        sectionNames_train.append(secNames)\n",
    "        NgramFeaturesList_train.append(NGramFeatures)\n",
    "        y_train.append(labels_train[i])\n",
    "    except Exception as e: \n",
    "        print(sample+\":\")\n",
    "        print(e)"
   ]
  },
  {
   "cell_type": "code",
   "execution_count": 7,
   "metadata": {},
   "outputs": [],
   "source": [
    "from sklearn.feature_extraction.text import HashingVectorizer, TfidfTransformer\n",
    "from sklearn.pipeline import Pipeline\n",
    "imports_featurizer = Pipeline([('vect', HashingVectorizer(input='content', ngram_range=(1, 2))),('tfidf', TfidfTransformer(use_idf=True, )),])\n",
    "section_names_featurizer = Pipeline([('vect', HashingVectorizer(input='content', ngram_range=(1, 2))),('tfidf', TfidfTransformer(use_idf=True, )),])\n",
    "importsCorpus_train_transformed = imports_featurizer.fit_transform(importsCorpus_train)\n",
    "sectionNames_train_transformed = section_names_featurizer.fit_transform(sectionNames_train)"
   ]
  },
  {
   "cell_type": "code",
   "execution_count": 8,
   "metadata": {},
   "outputs": [],
   "source": [
    "from scipy.sparse import hstack, csr_matrix\n",
    "X_train = hstack([NgramFeaturesList_train, importsCorpus_train_transformed,sectionNames_train_transformed, csr_matrix(numSections_train).transpose()])"
   ]
  },
  {
   "cell_type": "code",
   "execution_count": 9,
   "metadata": {},
   "outputs": [],
   "source": [
    "from sklearn.ensemble import RandomForestClassifier\n",
    "clf=RandomForestClassifier(n_estimators=100)\n",
    "clf = clf.fit(X_train,y_train)"
   ]
  },
  {
   "cell_type": "code",
   "execution_count": 10,
   "metadata": {},
   "outputs": [
    {
     "data": {
      "text/plain": [
       "1.0"
      ]
     },
     "execution_count": 10,
     "metadata": {},
     "output_type": "execute_result"
    }
   ],
   "source": [
    "clf.score(X_train, y_train)"
   ]
  },
  {
   "cell_type": "code",
   "execution_count": 11,
   "metadata": {},
   "outputs": [
    {
     "name": "stdout",
     "output_type": "stream",
     "text": [
      "Benign PE Samples\\InspectVhdDialog.exe:\n",
      "'DOS Header magic not found.'\n",
      "Benign PE Samples\\inetinfo.exe:\n",
      "'DOS Header magic not found.'\n",
      "Benign PE Samples\\aspnetca.exe:\n",
      "'DOS Header magic not found.'\n",
      "Benign PE Samples\\dsmgmt.exe:\n",
      "'DOS Header magic not found.'\n",
      "Benign PE Samples\\dcdiag.exe:\n",
      "'DOS Header magic not found.'\n",
      "Benign PE Samples\\iisrstas.exe:\n",
      "'DOS Header magic not found.'\n",
      "Benign PE Samples\\bash.exe:\n",
      "'DOS Header magic not found.'\n",
      "Benign PE Samples\\LxRun.exe:\n",
      "'DOS Header magic not found.'\n",
      "Benign PE Samples\\iissetup.exe:\n",
      "'DOS Header magic not found.'\n"
     ]
    }
   ],
   "source": [
    "importsCorpus_test = []\n",
    "numSections_test = []\n",
    "sectionNames_test = []\n",
    "NgramFeaturesList_test = []\n",
    "y_test = []\n",
    "for i in range(len(samples_test)):\n",
    "    sample = samples_test[i]\n",
    "    try:\n",
    "        NGramFeatures = getNGramFeaturesFromSample(sample, K1_most_frequent_Ngrams_list)\n",
    "        pe = pefile.PE(file)\n",
    "        imports = getImports(pe)\n",
    "        nSections = len(pe.sections)\n",
    "        secNames = getSectionNames(pe)\n",
    "        importsCorpus_test.append(imports)\n",
    "        numSections_test.append(nSections)\n",
    "        sectionNames_test.append(secNames)\n",
    "        NgramFeaturesList_test.append(NGramFeatures)\n",
    "        y_test.append(labels_test[i])\n",
    "    except Exception as e: \n",
    "        print(sample+\":\")\n",
    "        print(e)"
   ]
  },
  {
   "cell_type": "code",
   "execution_count": 12,
   "metadata": {},
   "outputs": [],
   "source": [
    "importsCorpus_test_transformed = imports_featurizer.transform(importsCorpus_test)\n",
    "sectionNames_test_transformed = section_names_featurizer.transform(sectionNames_test)\n",
    "X_test = hstack([NgramFeaturesList_test, importsCorpus_test_transformed,sectionNames_test_transformed, csr_matrix(numSections_test).transpose()])"
   ]
  },
  {
   "cell_type": "code",
   "execution_count": 13,
   "metadata": {},
   "outputs": [
    {
     "data": {
      "text/plain": [
       "0.9236641221374046"
      ]
     },
     "execution_count": 13,
     "metadata": {},
     "output_type": "execute_result"
    }
   ],
   "source": [
    "clf.score(X_test, y_test)"
   ]
  },
  {
   "cell_type": "code",
   "execution_count": null,
   "metadata": {},
   "outputs": [],
   "source": []
  }
 ],
 "metadata": {
  "kernelspec": {
   "display_name": "Python 3",
   "language": "python",
   "name": "python3"
  },
  "language_info": {
   "codemirror_mode": {
    "name": "ipython",
    "version": 3
   },
   "file_extension": ".py",
   "mimetype": "text/x-python",
   "name": "python",
   "nbconvert_exporter": "python",
   "pygments_lexer": "ipython3",
   "version": "3.6.8"
  }
 },
 "nbformat": 4,
 "nbformat_minor": 2
}
