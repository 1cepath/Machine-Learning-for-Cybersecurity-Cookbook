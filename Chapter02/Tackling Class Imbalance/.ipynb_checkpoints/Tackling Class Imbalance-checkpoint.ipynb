{
 "cells": [
  {
   "cell_type": "code",
   "execution_count": 15,
   "metadata": {},
   "outputs": [],
   "source": [
    "from sklearn import tree\n",
    "from sklearn.metrics import balanced_accuracy_score\n",
    "import numpy as np\n",
    "import scipy.sparse\n",
    "import collections\n",
    "X_train = scipy.sparse.load_npz(\"training_data.npz\")\n",
    "y_train = np.load(\"training_labels.npy\")\n",
    "X_test = scipy.sparse.load_npz(\"test_data.npz\")\n",
    "y_test = np.load(\"test_labels.npy\")"
   ]
  },
  {
   "cell_type": "code",
   "execution_count": 16,
   "metadata": {},
   "outputs": [
    {
     "name": "stdout",
     "output_type": "stream",
     "text": [
      "Counter({0: 121, 1: 10})\n",
      "0.8333333333333333\n"
     ]
    }
   ],
   "source": [
    "dt = tree.DecisionTreeClassifier()\n",
    "dt.fit(X_train,y_train)\n",
    "dtPred = dt.predict(X_test)\n",
    "print(collections.Counter(dtPred))\n",
    "print(balanced_accuracy_score(y_test, dtPred)) "
   ]
  },
  {
   "cell_type": "code",
   "execution_count": 17,
   "metadata": {},
   "outputs": [
    {
     "name": "stdout",
     "output_type": "stream",
     "text": [
      "Counter({0: 114, 1: 17})\n",
      "0.9913793103448276\n"
     ]
    }
   ],
   "source": [
    "dtWeighted=tree.DecisionTreeClassifier(class_weight=\"balanced\")\n",
    "dtWeighted.fit(X_train,y_train)\n",
    "dtWeightedPred = dtWeighted.predict(X_test)\n",
    "print(collections.Counter(dtWeightedPred))\n",
    "print(balanced_accuracy_score(y_test, dtWeightedPred))"
   ]
  },
  {
   "cell_type": "code",
   "execution_count": 18,
   "metadata": {},
   "outputs": [],
   "source": [
    "from sklearn.utils import resample\n",
    "X_train_np = X_train.toarray()\n",
    "class_0_indices = [i for i, x in enumerate(y_train==0) if x]\n",
    "class_1_indices = [i for i, x in enumerate(y_train==1) if x]\n",
    "size_class_0 = sum(y_train==0)\n",
    "X_train_class_0 = X_train_np[class_0_indices,:]\n",
    "y_train_class_0 = [0]*size_class_0\n",
    "X_train_class_1 = X_train_np[class_1_indices,:]"
   ]
  },
  {
   "cell_type": "code",
   "execution_count": 19,
   "metadata": {},
   "outputs": [],
   "source": [
    "X_train_class_1_resampled = resample(X_train_class_1, replace=True, n_samples=size_class_0)\n",
    "y_train_class_1_resampled = [1]*size_class_0"
   ]
  },
  {
   "cell_type": "code",
   "execution_count": 20,
   "metadata": {},
   "outputs": [],
   "source": [
    "X_train_resampled = np.concatenate([X_train_class_0,X_train_class_1_resampled])\n",
    "y_train_resampled = y_train_class_0+y_train_class_1_resampled"
   ]
  },
  {
   "cell_type": "code",
   "execution_count": 21,
   "metadata": {},
   "outputs": [],
   "source": [
    "from scipy import sparse\n",
    "X_train_resampled = sparse.csr_matrix(X_train_resampled)"
   ]
  },
  {
   "cell_type": "code",
   "execution_count": 22,
   "metadata": {},
   "outputs": [
    {
     "name": "stdout",
     "output_type": "stream",
     "text": [
      "Counter({0: 114, 1: 17})\n",
      "0.9913793103448276\n"
     ]
    }
   ],
   "source": [
    "dtResampled=tree.DecisionTreeClassifier()\n",
    "dtResampled.fit(X_train_resampled,y_train_resampled)\n",
    "dtResampledPred = dtResampled.predict(X_test)\n",
    "print(collections.Counter(dtResampledPred))\n",
    "print(balanced_accuracy_score(y_test, dtResampledPred))"
   ]
  },
  {
   "cell_type": "code",
   "execution_count": 23,
   "metadata": {},
   "outputs": [],
   "source": [
    "X_train_np = X_train.toarray()\n",
    "class_0_indices = [i for i, x in enumerate(y_train==0) if x]\n",
    "class_1_indices = [i for i, x in enumerate(y_train==1) if x]\n",
    "size_class_1 = sum(y_train==1)\n",
    "X_train_class_1 = X_train_np[class_1_indices,:]\n",
    "y_train_class_1 = [1]*size_class_1\n",
    "X_train_class_0 = X_train_np[class_0_indices,:]\n",
    "X_train_class_0_downsampled = resample(X_train_class_0, replace=False, n_samples=size_class_1)\n",
    "y_train_class_0_downsampled = [0]*size_class_1"
   ]
  },
  {
   "cell_type": "code",
   "execution_count": 24,
   "metadata": {},
   "outputs": [],
   "source": [
    "X_train_downsampled = np.concatenate([X_train_class_1,X_train_class_0_downsampled])\n",
    "y_train_downsampled = y_train_class_1+y_train_class_0_downsampled"
   ]
  },
  {
   "cell_type": "code",
   "execution_count": 25,
   "metadata": {},
   "outputs": [],
   "source": [
    "X_train_downsampled = sparse.csr_matrix(X_train_downsampled)"
   ]
  },
  {
   "cell_type": "code",
   "execution_count": 26,
   "metadata": {},
   "outputs": [
    {
     "name": "stdout",
     "output_type": "stream",
     "text": [
      "Counter({0: 100, 1: 31})\n",
      "0.9310344827586207\n"
     ]
    }
   ],
   "source": [
    "dtDownsampled=tree.DecisionTreeClassifier()\n",
    "dtDownsampled.fit(X_train_downsampled,y_train_downsampled)\n",
    "dtDownsampledPred = dtDownsampled.predict(X_test)\n",
    "print(collections.Counter(dtDownsampledPred))\n",
    "print(balanced_accuracy_score(y_test, dtDownsampledPred))"
   ]
  },
  {
   "cell_type": "code",
   "execution_count": 29,
   "metadata": {
    "scrolled": true
   },
   "outputs": [
    {
     "name": "stdout",
     "output_type": "stream",
     "text": [
      "Counter({0: 113, 1: 18})\n",
      "0.9494252873563218\n"
     ]
    }
   ],
   "source": [
    "from imblearn.ensemble import BalancedBaggingClassifier\n",
    "balancedclf = BalancedBaggingClassifier(base_estimator=tree.DecisionTreeClassifier(),sampling_strategy='auto',replacement=True)\n",
    "balancedclf.fit(X_train, y_train) \n",
    "balancedclfPred = balancedclf.predict(X_test)\n",
    "print(collections.Counter(balancedclfPred))\n",
    "print(balanced_accuracy_score(y_test, balancedclfPred))  "
   ]
  },
  {
   "cell_type": "code",
   "execution_count": null,
   "metadata": {},
   "outputs": [],
   "source": []
  }
 ],
 "metadata": {
  "kernelspec": {
   "display_name": "Python 3",
   "language": "python",
   "name": "python3"
  }
 },
 "nbformat": 4,
 "nbformat_minor": 2
}
