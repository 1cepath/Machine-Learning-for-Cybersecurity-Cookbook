{
 "cells": [
  {
   "cell_type": "code",
   "execution_count": 1,
   "metadata": {},
   "outputs": [
    {
     "name": "stderr",
     "output_type": "stream",
     "text": [
      "Using TensorFlow backend.\n"
     ]
    }
   ],
   "source": [
    "import numpy as np\n",
    "from keras.datasets import mnist\n",
    "from keras.utils import to_categorical\n",
    "def load_mnist():\n",
    "    (x_train, y_train), (x_test, y_test) = mnist.load_data()\n",
    "\n",
    "    x_train = np.array(x_train, dtype=np.float32) / 255\n",
    "    x_test = np.array(x_test, dtype=np.float32) / 255\n",
    "\n",
    "    x_train = x_train.reshape(x_train.shape[0], 28, 28, 1)\n",
    "    x_test = x_test.reshape(x_test.shape[0], 28, 28, 1)\n",
    "\n",
    "    y_train = np.array(y_train, dtype=np.int32)\n",
    "    y_test = np.array(y_test, dtype=np.int32)\n",
    "\n",
    "    y_train = to_categorical(y_train, num_classes=10)\n",
    "    y_test = to_categorical(y_test, num_classes=10)\n",
    "    return x_train, y_train, x_test, y_test\n",
    "\n",
    "\n",
    "x_train, y_train, x_test, y_test = load_mnist()"
   ]
  },
  {
   "cell_type": "code",
   "execution_count": 2,
   "metadata": {},
   "outputs": [
    {
     "ename": "AttributeError",
     "evalue": "module 'tensorflow' has no attribute 'contrib'",
     "output_type": "error",
     "traceback": [
      "\u001b[1;31m---------------------------------------------------------------------------\u001b[0m",
      "\u001b[1;31mAttributeError\u001b[0m                            Traceback (most recent call last)",
      "\u001b[1;32m<ipython-input-2-2c06219d366f>\u001b[0m in \u001b[0;36m<module>\u001b[1;34m\u001b[0m\n\u001b[0;32m     11\u001b[0m \u001b[1;33m\u001b[0m\u001b[0m\n\u001b[0;32m     12\u001b[0m \u001b[1;33m\u001b[0m\u001b[0m\n\u001b[1;32m---> 13\u001b[1;33m \u001b[1;32mfrom\u001b[0m \u001b[0mprivacy\u001b[0m\u001b[1;33m.\u001b[0m\u001b[0manalysis\u001b[0m\u001b[1;33m.\u001b[0m\u001b[0mrdp_accountant\u001b[0m \u001b[1;32mimport\u001b[0m \u001b[0mcompute_rdp\u001b[0m\u001b[1;33m\u001b[0m\u001b[1;33m\u001b[0m\u001b[0m\n\u001b[0m\u001b[0;32m     14\u001b[0m \u001b[1;32mfrom\u001b[0m \u001b[0mprivacy\u001b[0m\u001b[1;33m.\u001b[0m\u001b[0manalysis\u001b[0m\u001b[1;33m.\u001b[0m\u001b[0mrdp_accountant\u001b[0m \u001b[1;32mimport\u001b[0m \u001b[0mget_privacy_spent\u001b[0m\u001b[1;33m\u001b[0m\u001b[1;33m\u001b[0m\u001b[0m\n\u001b[0;32m     15\u001b[0m \u001b[1;33m\u001b[0m\u001b[0m\n",
      "\u001b[1;32mc:\\users\\etsukerman\\desktop\\privacy\\privacy\\__init__.py\u001b[0m in \u001b[0;36m<module>\u001b[1;34m\u001b[0m\n\u001b[0;32m     34\u001b[0m   \u001b[1;32mfrom\u001b[0m \u001b[0mprivacy\u001b[0m\u001b[1;33m.\u001b[0m\u001b[0mdp_query\u001b[0m\u001b[1;33m.\u001b[0m\u001b[0mno_privacy_query\u001b[0m \u001b[1;32mimport\u001b[0m \u001b[0mNoPrivacySumQuery\u001b[0m\u001b[1;33m\u001b[0m\u001b[1;33m\u001b[0m\u001b[0m\n\u001b[0;32m     35\u001b[0m   \u001b[1;32mfrom\u001b[0m \u001b[0mprivacy\u001b[0m\u001b[1;33m.\u001b[0m\u001b[0mdp_query\u001b[0m\u001b[1;33m.\u001b[0m\u001b[0mnormalized_query\u001b[0m \u001b[1;32mimport\u001b[0m \u001b[0mNormalizedQuery\u001b[0m\u001b[1;33m\u001b[0m\u001b[1;33m\u001b[0m\u001b[0m\n\u001b[1;32m---> 36\u001b[1;33m   \u001b[1;32mfrom\u001b[0m \u001b[0mprivacy\u001b[0m\u001b[1;33m.\u001b[0m\u001b[0mdp_query\u001b[0m\u001b[1;33m.\u001b[0m\u001b[0mquantile_adaptive_clip_sum_query\u001b[0m \u001b[1;32mimport\u001b[0m \u001b[0mQuantileAdaptiveClipSumQuery\u001b[0m\u001b[1;33m\u001b[0m\u001b[1;33m\u001b[0m\u001b[0m\n\u001b[0m\u001b[0;32m     37\u001b[0m   \u001b[1;32mfrom\u001b[0m \u001b[0mprivacy\u001b[0m\u001b[1;33m.\u001b[0m\u001b[0mdp_query\u001b[0m\u001b[1;33m.\u001b[0m\u001b[0mquantile_adaptive_clip_sum_query\u001b[0m \u001b[1;32mimport\u001b[0m \u001b[0mQuantileAdaptiveClipAverageQuery\u001b[0m\u001b[1;33m\u001b[0m\u001b[1;33m\u001b[0m\u001b[0m\n\u001b[0;32m     38\u001b[0m \u001b[1;33m\u001b[0m\u001b[0m\n",
      "\u001b[1;32mc:\\users\\etsukerman\\desktop\\privacy\\privacy\\dp_query\\quantile_adaptive_clip_sum_query.py\u001b[0m in \u001b[0;36m<module>\u001b[1;34m\u001b[0m\n\u001b[0;32m     34\u001b[0m \u001b[1;32mfrom\u001b[0m \u001b[0mprivacy\u001b[0m\u001b[1;33m.\u001b[0m\u001b[0mdp_query\u001b[0m \u001b[1;32mimport\u001b[0m \u001b[0mnormalized_query\u001b[0m\u001b[1;33m\u001b[0m\u001b[1;33m\u001b[0m\u001b[0m\n\u001b[0;32m     35\u001b[0m \u001b[1;33m\u001b[0m\u001b[0m\n\u001b[1;32m---> 36\u001b[1;33m \u001b[0mnest\u001b[0m \u001b[1;33m=\u001b[0m \u001b[0mtf\u001b[0m\u001b[1;33m.\u001b[0m\u001b[0mcontrib\u001b[0m\u001b[1;33m.\u001b[0m\u001b[0mframework\u001b[0m\u001b[1;33m.\u001b[0m\u001b[0mnest\u001b[0m\u001b[1;33m\u001b[0m\u001b[1;33m\u001b[0m\u001b[0m\n\u001b[0m\u001b[0;32m     37\u001b[0m \u001b[1;33m\u001b[0m\u001b[0m\n\u001b[0;32m     38\u001b[0m \u001b[1;33m\u001b[0m\u001b[0m\n",
      "\u001b[1;31mAttributeError\u001b[0m: module 'tensorflow' has no attribute 'contrib'"
     ]
    }
   ],
   "source": [
    "from __future__ import absolute_import\n",
    "from __future__ import division\n",
    "from __future__ import print_function\n",
    "\n",
    "learning_rate=0.2\n",
    "noise_multiplier=1.2\n",
    "l2_norm_clip=1.25\n",
    "batch_size=256\n",
    "epochs=60\n",
    "microbatches=1\n",
    "\n",
    "\n",
    "from privacy.analysis.rdp_accountant import compute_rdp\n",
    "from privacy.analysis.rdp_accountant import get_privacy_spent\n",
    "\n",
    "def compute_epsilon(steps):\n",
    "    orders = [1 + x / 10. for x in range(1, 100)] + list(range(12, 64))\n",
    "    sampling_probability = batch_size / 60000\n",
    "    rdp = compute_rdp(q=sampling_probability,\n",
    "                    noise_multiplier=noise_multiplier,\n",
    "                    steps=steps,\n",
    "                    orders=orders)\n",
    "    return get_privacy_spent(orders, rdp, target_delta=float(1)/60000)[0]\n",
    "\n",
    "\n",
    "\n",
    "from keras.models import Sequential\n",
    "from keras.layers import Dense, MaxPooling2D, Flatten, Conv2D\n",
    "       \n",
    "model = Sequential([\n",
    "  Conv2D(16, 8, strides=2, padding='same', activation='relu', input_shape=(28, 28, 1)),\n",
    "  MaxPooling2D(2, 1),\n",
    "  Conv2D(32, 4, strides=2, padding='valid', activation='relu'),\n",
    "  MaxPooling2D(2, 1),\n",
    "  Flatten(),\n",
    "  Dense(32, activation='relu'),\n",
    "  Dense(10)\n",
    "])\n",
    "\n",
    "\n",
    "\n",
    "from privacy.dp_query.gaussian_query import GaussianAverageQuery\n",
    "from privacy.optimizers.dp_optimizer import DPGradientDescentOptimizer\n",
    "dp_average_query = GaussianAverageQuery(\n",
    "    l2_norm_clip,\n",
    "    l2_norm_clip * noise_multiplier,\n",
    "    microbatches)\n",
    "\n",
    "optimizer = DPGradientDescentOptimizer(\n",
    "    dp_average_query,\n",
    "    microbatches,\n",
    "    learning_rate=learning_rate,\n",
    "    unroll_microbatches=True)\n",
    "\n",
    "model.compile(optimizer=optimizer, loss='categorical_crossentropy', metrics=['accuracy'])\n",
    "\n",
    "model.fit(x_train, y_train,\n",
    "        epochs=epochs,\n",
    "        validation_data=(x_test, y_test),\n",
    "        batch_size=batch_size)\n",
    "\n",
    "eps = compute_epsilon(epochs * 60000 // batch_size)\n",
    "print('For delta=1/60000, the current epsilon is: %.2f' % eps)\n"
   ]
  },
  {
   "cell_type": "code",
   "execution_count": null,
   "metadata": {},
   "outputs": [],
   "source": []
  }
 ],
 "metadata": {
  "kernelspec": {
   "display_name": "Python 3",
   "language": "python",
   "name": "python3"
  },
  "language_info": {
   "codemirror_mode": {
    "name": "ipython",
    "version": 3
   },
   "file_extension": ".py",
   "mimetype": "text/x-python",
   "name": "python",
   "nbconvert_exporter": "python",
   "pygments_lexer": "ipython3",
   "version": "3.7.3"
  }
 },
 "nbformat": 4,
 "nbformat_minor": 2
}
