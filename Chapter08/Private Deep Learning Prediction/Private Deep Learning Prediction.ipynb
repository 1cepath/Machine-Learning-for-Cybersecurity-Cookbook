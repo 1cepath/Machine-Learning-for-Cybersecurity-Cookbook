{
 "cells": [
  {
   "cell_type": "code",
   "execution_count": 1,
   "metadata": {},
   "outputs": [],
   "source": [
    "import torch\n",
    "import torch.nn as nn\n",
    "import torch.nn.functional as F\n",
    "from torchvision import datasets, transforms"
   ]
  },
  {
   "cell_type": "code",
   "execution_count": 2,
   "metadata": {},
   "outputs": [],
   "source": [
    "import syft as sy\n",
    "hook = sy.TorchHook(torch) \n",
    "client = sy.VirtualWorker(hook, id=\"client\")\n",
    "server = sy.VirtualWorker(hook, id=\"server\")\n",
    "crypto_provider = sy.VirtualWorker(hook, id=\"crypto_provider\")"
   ]
  },
  {
   "cell_type": "code",
   "execution_count": 3,
   "metadata": {},
   "outputs": [],
   "source": [
    "class Net(nn.Module):\n",
    "    def __init__(self):\n",
    "        super(Net, self).__init__()\n",
    "        self.fc1 = nn.Linear(784, 500)\n",
    "        self.fc2 = nn.Linear(500, 10)\n",
    "\n",
    "    def forward(self, x):\n",
    "        x = x.view(-1, 784)\n",
    "        x = self.fc1(x)\n",
    "        x = F.relu(x)\n",
    "        x = self.fc2(x)\n",
    "        return x"
   ]
  },
  {
   "cell_type": "code",
   "execution_count": 4,
   "metadata": {},
   "outputs": [
    {
     "data": {
      "text/plain": [
       "Net(\n",
       "  (fc1): Linear(in_features=784, out_features=500, bias=True)\n",
       "  (fc2): Linear(in_features=500, out_features=10, bias=True)\n",
       ")"
      ]
     },
     "execution_count": 4,
     "metadata": {},
     "output_type": "execute_result"
    }
   ],
   "source": [
    "model = Net()\n",
    "model.load_state_dict(torch.load(\"server_trained_model.pt\"))\n",
    "model.eval()"
   ]
  },
  {
   "cell_type": "code",
   "execution_count": 5,
   "metadata": {},
   "outputs": [
    {
     "data": {
      "text/plain": [
       "Net(\n",
       "  (fc1): Linear(in_features=784, out_features=500, bias=True)\n",
       "  (fc2): Linear(in_features=500, out_features=10, bias=True)\n",
       ")"
      ]
     },
     "execution_count": 5,
     "metadata": {},
     "output_type": "execute_result"
    }
   ],
   "source": [
    "model.fix_precision().share(client, server, crypto_provider=crypto_provider)"
   ]
  },
  {
   "cell_type": "code",
   "execution_count": 6,
   "metadata": {},
   "outputs": [],
   "source": [
    "test_loader = torch.utils.data.DataLoader(\n",
    "    datasets.MNIST('data', train=False,\n",
    "                   transform=transforms.Compose([\n",
    "                       transforms.ToTensor(),\n",
    "                       transforms.Normalize((0.1307,), (0.3081,))\n",
    "                   ])),\n",
    "    batch_size=64, shuffle=True)\n",
    "\n",
    "private_test_loader = []\n",
    "for data, target in test_loader:\n",
    "    private_test_loader.append((\n",
    "        data.fix_precision().share(client, server, crypto_provider=crypto_provider),\n",
    "        target.fix_precision().share(client, server, crypto_provider=crypto_provider)\n",
    "    ))"
   ]
  },
  {
   "cell_type": "code",
   "execution_count": 9,
   "metadata": {},
   "outputs": [],
   "source": [
    "def test(model, test_loader):\n",
    "    model.eval()\n",
    "    n_correct_priv = 0\n",
    "    n_total = 0\n",
    "    with torch.no_grad():\n",
    "        for data, target in test_loader:\n",
    "            output = model(data)\n",
    "            pred = output.argmax(dim=1) \n",
    "            n_correct_priv += pred.eq(target.view_as(pred)).sum()\n",
    "            n_total += 64\n",
    "            n_correct = n_correct_priv.copy().get().float_precision().long().item()\n",
    "            print('Test set: Accuracy: {}/{} ({:.0f}%)'.format(\n",
    "                n_correct, n_total,\n",
    "                100. * n_correct / n_total))"
   ]
  },
  {
   "cell_type": "code",
   "execution_count": 10,
   "metadata": {},
   "outputs": [
    {
     "name": "stdout",
     "output_type": "stream",
     "text": [
      "Test set: Accuracy: 63/64 (98%)\n",
      "Test set: Accuracy: 123/128 (96%)\n",
      "Test set: Accuracy: 185/192 (96%)\n",
      "Test set: Accuracy: 248/256 (97%)\n",
      "Test set: Accuracy: 310/320 (97%)\n",
      "Test set: Accuracy: 373/384 (97%)\n",
      "Test set: Accuracy: 433/448 (97%)\n",
      "Test set: Accuracy: 496/512 (97%)\n",
      "Test set: Accuracy: 558/576 (97%)\n",
      "Test set: Accuracy: 620/640 (97%)\n",
      "Test set: Accuracy: 684/704 (97%)\n",
      "Test set: Accuracy: 748/768 (97%)\n",
      "Test set: Accuracy: 808/832 (97%)\n",
      "Test set: Accuracy: 871/896 (97%)\n",
      "Test set: Accuracy: 935/960 (97%)\n",
      "Test set: Accuracy: 998/1024 (97%)\n",
      "Test set: Accuracy: 1060/1088 (97%)\n",
      "Test set: Accuracy: 1123/1152 (97%)\n",
      "Test set: Accuracy: 1182/1216 (97%)\n",
      "Test set: Accuracy: 1244/1280 (97%)\n",
      "Test set: Accuracy: 1306/1344 (97%)\n",
      "Test set: Accuracy: 1370/1408 (97%)\n",
      "Test set: Accuracy: 1433/1472 (97%)\n",
      "Test set: Accuracy: 1496/1536 (97%)\n",
      "Test set: Accuracy: 1558/1600 (97%)\n",
      "Test set: Accuracy: 1620/1664 (97%)\n",
      "Test set: Accuracy: 1683/1728 (97%)\n",
      "Test set: Accuracy: 1746/1792 (97%)\n",
      "Test set: Accuracy: 1809/1856 (97%)\n",
      "Test set: Accuracy: 1871/1920 (97%)\n",
      "Test set: Accuracy: 1934/1984 (97%)\n",
      "Test set: Accuracy: 1997/2048 (98%)\n",
      "Test set: Accuracy: 2059/2112 (97%)\n",
      "Test set: Accuracy: 2121/2176 (97%)\n",
      "Test set: Accuracy: 2183/2240 (97%)\n",
      "Test set: Accuracy: 2247/2304 (98%)\n",
      "Test set: Accuracy: 2308/2368 (97%)\n",
      "Test set: Accuracy: 2372/2432 (98%)\n",
      "Test set: Accuracy: 2435/2496 (98%)\n",
      "Test set: Accuracy: 2497/2560 (98%)\n",
      "Test set: Accuracy: 2561/2624 (98%)\n",
      "Test set: Accuracy: 2623/2688 (98%)\n",
      "Test set: Accuracy: 2686/2752 (98%)\n",
      "Test set: Accuracy: 2748/2816 (98%)\n",
      "Test set: Accuracy: 2812/2880 (98%)\n",
      "Test set: Accuracy: 2874/2944 (98%)\n",
      "Test set: Accuracy: 2937/3008 (98%)\n",
      "Test set: Accuracy: 2997/3072 (98%)\n",
      "Test set: Accuracy: 3059/3136 (98%)\n",
      "Test set: Accuracy: 3123/3200 (98%)\n",
      "Test set: Accuracy: 3185/3264 (98%)\n",
      "Test set: Accuracy: 3249/3328 (98%)\n",
      "Test set: Accuracy: 3313/3392 (98%)\n",
      "Test set: Accuracy: 3374/3456 (98%)\n",
      "Test set: Accuracy: 3434/3520 (98%)\n",
      "Test set: Accuracy: 3496/3584 (98%)\n",
      "Test set: Accuracy: 3559/3648 (98%)\n",
      "Test set: Accuracy: 3623/3712 (98%)\n",
      "Test set: Accuracy: 3684/3776 (98%)\n",
      "Test set: Accuracy: 3747/3840 (98%)\n",
      "Test set: Accuracy: 3808/3904 (98%)\n",
      "Test set: Accuracy: 3871/3968 (98%)\n",
      "Test set: Accuracy: 3934/4032 (98%)\n",
      "Test set: Accuracy: 3996/4096 (98%)\n",
      "Test set: Accuracy: 4057/4160 (98%)\n",
      "Test set: Accuracy: 4120/4224 (98%)\n",
      "Test set: Accuracy: 4183/4288 (98%)\n",
      "Test set: Accuracy: 4246/4352 (98%)\n",
      "Test set: Accuracy: 4309/4416 (98%)\n",
      "Test set: Accuracy: 4373/4480 (98%)\n",
      "Test set: Accuracy: 4433/4544 (98%)\n",
      "Test set: Accuracy: 4496/4608 (98%)\n",
      "Test set: Accuracy: 4558/4672 (98%)\n",
      "Test set: Accuracy: 4619/4736 (98%)\n",
      "Test set: Accuracy: 4682/4800 (98%)\n",
      "Test set: Accuracy: 4745/4864 (98%)\n",
      "Test set: Accuracy: 4807/4928 (98%)\n",
      "Test set: Accuracy: 4869/4992 (98%)\n",
      "Test set: Accuracy: 4932/5056 (98%)\n",
      "Test set: Accuracy: 4993/5120 (98%)\n",
      "Test set: Accuracy: 5057/5184 (98%)\n",
      "Test set: Accuracy: 5119/5248 (98%)\n",
      "Test set: Accuracy: 5183/5312 (98%)\n",
      "Test set: Accuracy: 5247/5376 (98%)\n",
      "Test set: Accuracy: 5309/5440 (98%)\n",
      "Test set: Accuracy: 5371/5504 (98%)\n",
      "Test set: Accuracy: 5432/5568 (98%)\n",
      "Test set: Accuracy: 5492/5632 (98%)\n",
      "Test set: Accuracy: 5555/5696 (98%)\n",
      "Test set: Accuracy: 5618/5760 (98%)\n",
      "Test set: Accuracy: 5680/5824 (98%)\n",
      "Test set: Accuracy: 5744/5888 (98%)\n",
      "Test set: Accuracy: 5807/5952 (98%)\n",
      "Test set: Accuracy: 5870/6016 (98%)\n",
      "Test set: Accuracy: 5930/6080 (98%)\n",
      "Test set: Accuracy: 5993/6144 (98%)\n",
      "Test set: Accuracy: 6056/6208 (98%)\n",
      "Test set: Accuracy: 6117/6272 (98%)\n",
      "Test set: Accuracy: 6181/6336 (98%)\n",
      "Test set: Accuracy: 6243/6400 (98%)\n",
      "Test set: Accuracy: 6307/6464 (98%)\n",
      "Test set: Accuracy: 6370/6528 (98%)\n",
      "Test set: Accuracy: 6434/6592 (98%)\n",
      "Test set: Accuracy: 6497/6656 (98%)\n",
      "Test set: Accuracy: 6560/6720 (98%)\n",
      "Test set: Accuracy: 6624/6784 (98%)\n",
      "Test set: Accuracy: 6685/6848 (98%)\n",
      "Test set: Accuracy: 6748/6912 (98%)\n",
      "Test set: Accuracy: 6810/6976 (98%)\n",
      "Test set: Accuracy: 6872/7040 (98%)\n",
      "Test set: Accuracy: 6933/7104 (98%)\n",
      "Test set: Accuracy: 6996/7168 (98%)\n",
      "Test set: Accuracy: 7060/7232 (98%)\n",
      "Test set: Accuracy: 7122/7296 (98%)\n",
      "Test set: Accuracy: 7184/7360 (98%)\n",
      "Test set: Accuracy: 7245/7424 (98%)\n",
      "Test set: Accuracy: 7309/7488 (98%)\n",
      "Test set: Accuracy: 7369/7552 (98%)\n",
      "Test set: Accuracy: 7432/7616 (98%)\n",
      "Test set: Accuracy: 7494/7680 (98%)\n",
      "Test set: Accuracy: 7557/7744 (98%)\n",
      "Test set: Accuracy: 7619/7808 (98%)\n",
      "Test set: Accuracy: 7681/7872 (98%)\n",
      "Test set: Accuracy: 7741/7936 (98%)\n",
      "Test set: Accuracy: 7805/8000 (98%)\n",
      "Test set: Accuracy: 7867/8064 (98%)\n",
      "Test set: Accuracy: 7931/8128 (98%)\n",
      "Test set: Accuracy: 7994/8192 (98%)\n",
      "Test set: Accuracy: 8057/8256 (98%)\n",
      "Test set: Accuracy: 8121/8320 (98%)\n",
      "Test set: Accuracy: 8184/8384 (98%)\n",
      "Test set: Accuracy: 8247/8448 (98%)\n",
      "Test set: Accuracy: 8309/8512 (98%)\n",
      "Test set: Accuracy: 8368/8576 (98%)\n",
      "Test set: Accuracy: 8430/8640 (98%)\n",
      "Test set: Accuracy: 8492/8704 (98%)\n",
      "Test set: Accuracy: 8554/8768 (98%)\n",
      "Test set: Accuracy: 8618/8832 (98%)\n",
      "Test set: Accuracy: 8680/8896 (98%)\n",
      "Test set: Accuracy: 8740/8960 (98%)\n",
      "Test set: Accuracy: 8799/9024 (98%)\n",
      "Test set: Accuracy: 8860/9088 (97%)\n",
      "Test set: Accuracy: 8923/9152 (97%)\n",
      "Test set: Accuracy: 8987/9216 (98%)\n",
      "Test set: Accuracy: 9049/9280 (98%)\n",
      "Test set: Accuracy: 9112/9344 (98%)\n",
      "Test set: Accuracy: 9175/9408 (98%)\n",
      "Test set: Accuracy: 9235/9472 (97%)\n",
      "Test set: Accuracy: 9295/9536 (97%)\n",
      "Test set: Accuracy: 9358/9600 (97%)\n",
      "Test set: Accuracy: 9419/9664 (97%)\n",
      "Test set: Accuracy: 9481/9728 (97%)\n",
      "Test set: Accuracy: 9543/9792 (97%)\n",
      "Test set: Accuracy: 9605/9856 (97%)\n",
      "Test set: Accuracy: 9668/9920 (97%)\n",
      "Test set: Accuracy: 9727/9984 (97%)\n",
      "Test set: Accuracy: 9742/10048 (97%)\n"
     ]
    }
   ],
   "source": [
    "test(model, private_test_loader)"
   ]
  },
  {
   "cell_type": "code",
   "execution_count": null,
   "metadata": {},
   "outputs": [],
   "source": []
  }
 ],
 "metadata": {
  "kernelspec": {
   "display_name": "Python 3",
   "language": "python",
   "name": "python3"
  },
  "language_info": {
   "codemirror_mode": {
    "name": "ipython",
    "version": 3
   },
   "file_extension": ".py",
   "mimetype": "text/x-python",
   "name": "python",
   "nbconvert_exporter": "python",
   "pygments_lexer": "ipython3",
   "version": "3.7.3"
  }
 },
 "nbformat": 4,
 "nbformat_minor": 2
}
