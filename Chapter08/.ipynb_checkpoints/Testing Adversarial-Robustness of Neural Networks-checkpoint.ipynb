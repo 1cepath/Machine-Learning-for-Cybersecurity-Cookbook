{
 "cells": [
  {
   "cell_type": "code",
   "execution_count": null,
   "metadata": {},
   "outputs": [],
   "source": [
    "from abs_models import models as mz \n",
    "ABS_model = mz.get_VAE(n_iter=50)\n",
    "from abs_models import utils as u"
   ]
  },
  {
   "cell_type": "code",
   "execution_count": 48,
   "metadata": {},
   "outputs": [
    {
     "data": {
      "text/plain": [
       "ELBOVAE(\n",
       "  (VAE_0): VariationalAutoEncoder(\n",
       "    (Encoder): ConvEncoder(\n",
       "      (conv_0): Conv2d(1, 32, kernel_size=(5, 5), stride=(1, 1))\n",
       "      (bn_0): BatchNorm2d(32, eps=1e-05, momentum=0.1, affine=True, track_running_stats=True)\n",
       "      (nl_0): ELU(alpha=1.0)\n",
       "      (conv_1): Conv2d(32, 32, kernel_size=(4, 4), stride=(2, 2))\n",
       "      (bn_1): BatchNorm2d(32, eps=1e-05, momentum=0.1, affine=True, track_running_stats=True)\n",
       "      (nl_1): ELU(alpha=1.0)\n",
       "      (conv_2): Conv2d(32, 64, kernel_size=(3, 3), stride=(2, 2))\n",
       "      (bn_2): BatchNorm2d(64, eps=1e-05, momentum=0.1, affine=True, track_running_stats=True)\n",
       "      (nl_2): ELU(alpha=1.0)\n",
       "      (conv_3): Conv2d(64, 16, kernel_size=(5, 5), stride=(1, 1))\n",
       "    )\n",
       "    (Decoder): ConvDecoder(\n",
       "      (conv_0): ConvTranspose2d(8, 32, kernel_size=(4, 4), stride=(1, 1))\n",
       "      (bn_0): BatchNorm2d(32, eps=1e-05, momentum=0.1, affine=True, track_running_stats=True)\n",
       "      (nl_0): ELU(alpha=1.0)\n",
       "      (conv_1): ConvTranspose2d(32, 16, kernel_size=(5, 5), stride=(2, 2))\n",
       "      (bn_1): BatchNorm2d(16, eps=1e-05, momentum=0.1, affine=True, track_running_stats=True)\n",
       "      (nl_1): ELU(alpha=1.0)\n",
       "      (conv_2): ConvTranspose2d(16, 16, kernel_size=(5, 5), stride=(2, 2))\n",
       "      (bn_2): BatchNorm2d(16, eps=1e-05, momentum=0.1, affine=True, track_running_stats=True)\n",
       "      (nl_2): ELU(alpha=1.0)\n",
       "      (conv_3): ConvTranspose2d(16, 1, kernel_size=(4, 4), stride=(1, 1))\n",
       "      (nl_3): LinearActFct\n",
       "    )\n",
       "    (latent_act_fct): LinearActFct\n",
       "  )\n",
       "  (VAE_1): VariationalAutoEncoder(\n",
       "    (Encoder): ConvEncoder(\n",
       "      (conv_0): Conv2d(1, 32, kernel_size=(5, 5), stride=(1, 1))\n",
       "      (bn_0): BatchNorm2d(32, eps=1e-05, momentum=0.1, affine=True, track_running_stats=True)\n",
       "      (nl_0): ELU(alpha=1.0)\n",
       "      (conv_1): Conv2d(32, 32, kernel_size=(4, 4), stride=(2, 2))\n",
       "      (bn_1): BatchNorm2d(32, eps=1e-05, momentum=0.1, affine=True, track_running_stats=True)\n",
       "      (nl_1): ELU(alpha=1.0)\n",
       "      (conv_2): Conv2d(32, 64, kernel_size=(3, 3), stride=(2, 2))\n",
       "      (bn_2): BatchNorm2d(64, eps=1e-05, momentum=0.1, affine=True, track_running_stats=True)\n",
       "      (nl_2): ELU(alpha=1.0)\n",
       "      (conv_3): Conv2d(64, 16, kernel_size=(5, 5), stride=(1, 1))\n",
       "    )\n",
       "    (Decoder): ConvDecoder(\n",
       "      (conv_0): ConvTranspose2d(8, 32, kernel_size=(4, 4), stride=(1, 1))\n",
       "      (bn_0): BatchNorm2d(32, eps=1e-05, momentum=0.1, affine=True, track_running_stats=True)\n",
       "      (nl_0): ELU(alpha=1.0)\n",
       "      (conv_1): ConvTranspose2d(32, 16, kernel_size=(5, 5), stride=(2, 2))\n",
       "      (bn_1): BatchNorm2d(16, eps=1e-05, momentum=0.1, affine=True, track_running_stats=True)\n",
       "      (nl_1): ELU(alpha=1.0)\n",
       "      (conv_2): ConvTranspose2d(16, 16, kernel_size=(5, 5), stride=(2, 2))\n",
       "      (bn_2): BatchNorm2d(16, eps=1e-05, momentum=0.1, affine=True, track_running_stats=True)\n",
       "      (nl_2): ELU(alpha=1.0)\n",
       "      (conv_3): ConvTranspose2d(16, 1, kernel_size=(4, 4), stride=(1, 1))\n",
       "      (nl_3): LinearActFct\n",
       "    )\n",
       "    (latent_act_fct): LinearActFct\n",
       "  )\n",
       "  (VAE_2): VariationalAutoEncoder(\n",
       "    (Encoder): ConvEncoder(\n",
       "      (conv_0): Conv2d(1, 32, kernel_size=(5, 5), stride=(1, 1))\n",
       "      (bn_0): BatchNorm2d(32, eps=1e-05, momentum=0.1, affine=True, track_running_stats=True)\n",
       "      (nl_0): ELU(alpha=1.0)\n",
       "      (conv_1): Conv2d(32, 32, kernel_size=(4, 4), stride=(2, 2))\n",
       "      (bn_1): BatchNorm2d(32, eps=1e-05, momentum=0.1, affine=True, track_running_stats=True)\n",
       "      (nl_1): ELU(alpha=1.0)\n",
       "      (conv_2): Conv2d(32, 64, kernel_size=(3, 3), stride=(2, 2))\n",
       "      (bn_2): BatchNorm2d(64, eps=1e-05, momentum=0.1, affine=True, track_running_stats=True)\n",
       "      (nl_2): ELU(alpha=1.0)\n",
       "      (conv_3): Conv2d(64, 16, kernel_size=(5, 5), stride=(1, 1))\n",
       "    )\n",
       "    (Decoder): ConvDecoder(\n",
       "      (conv_0): ConvTranspose2d(8, 32, kernel_size=(4, 4), stride=(1, 1))\n",
       "      (bn_0): BatchNorm2d(32, eps=1e-05, momentum=0.1, affine=True, track_running_stats=True)\n",
       "      (nl_0): ELU(alpha=1.0)\n",
       "      (conv_1): ConvTranspose2d(32, 16, kernel_size=(5, 5), stride=(2, 2))\n",
       "      (bn_1): BatchNorm2d(16, eps=1e-05, momentum=0.1, affine=True, track_running_stats=True)\n",
       "      (nl_1): ELU(alpha=1.0)\n",
       "      (conv_2): ConvTranspose2d(16, 16, kernel_size=(5, 5), stride=(2, 2))\n",
       "      (bn_2): BatchNorm2d(16, eps=1e-05, momentum=0.1, affine=True, track_running_stats=True)\n",
       "      (nl_2): ELU(alpha=1.0)\n",
       "      (conv_3): ConvTranspose2d(16, 1, kernel_size=(4, 4), stride=(1, 1))\n",
       "      (nl_3): LinearActFct\n",
       "    )\n",
       "    (latent_act_fct): LinearActFct\n",
       "  )\n",
       "  (VAE_3): VariationalAutoEncoder(\n",
       "    (Encoder): ConvEncoder(\n",
       "      (conv_0): Conv2d(1, 32, kernel_size=(5, 5), stride=(1, 1))\n",
       "      (bn_0): BatchNorm2d(32, eps=1e-05, momentum=0.1, affine=True, track_running_stats=True)\n",
       "      (nl_0): ELU(alpha=1.0)\n",
       "      (conv_1): Conv2d(32, 32, kernel_size=(4, 4), stride=(2, 2))\n",
       "      (bn_1): BatchNorm2d(32, eps=1e-05, momentum=0.1, affine=True, track_running_stats=True)\n",
       "      (nl_1): ELU(alpha=1.0)\n",
       "      (conv_2): Conv2d(32, 64, kernel_size=(3, 3), stride=(2, 2))\n",
       "      (bn_2): BatchNorm2d(64, eps=1e-05, momentum=0.1, affine=True, track_running_stats=True)\n",
       "      (nl_2): ELU(alpha=1.0)\n",
       "      (conv_3): Conv2d(64, 16, kernel_size=(5, 5), stride=(1, 1))\n",
       "    )\n",
       "    (Decoder): ConvDecoder(\n",
       "      (conv_0): ConvTranspose2d(8, 32, kernel_size=(4, 4), stride=(1, 1))\n",
       "      (bn_0): BatchNorm2d(32, eps=1e-05, momentum=0.1, affine=True, track_running_stats=True)\n",
       "      (nl_0): ELU(alpha=1.0)\n",
       "      (conv_1): ConvTranspose2d(32, 16, kernel_size=(5, 5), stride=(2, 2))\n",
       "      (bn_1): BatchNorm2d(16, eps=1e-05, momentum=0.1, affine=True, track_running_stats=True)\n",
       "      (nl_1): ELU(alpha=1.0)\n",
       "      (conv_2): ConvTranspose2d(16, 16, kernel_size=(5, 5), stride=(2, 2))\n",
       "      (bn_2): BatchNorm2d(16, eps=1e-05, momentum=0.1, affine=True, track_running_stats=True)\n",
       "      (nl_2): ELU(alpha=1.0)\n",
       "      (conv_3): ConvTranspose2d(16, 1, kernel_size=(4, 4), stride=(1, 1))\n",
       "      (nl_3): LinearActFct\n",
       "    )\n",
       "    (latent_act_fct): LinearActFct\n",
       "  )\n",
       "  (VAE_4): VariationalAutoEncoder(\n",
       "    (Encoder): ConvEncoder(\n",
       "      (conv_0): Conv2d(1, 32, kernel_size=(5, 5), stride=(1, 1))\n",
       "      (bn_0): BatchNorm2d(32, eps=1e-05, momentum=0.1, affine=True, track_running_stats=True)\n",
       "      (nl_0): ELU(alpha=1.0)\n",
       "      (conv_1): Conv2d(32, 32, kernel_size=(4, 4), stride=(2, 2))\n",
       "      (bn_1): BatchNorm2d(32, eps=1e-05, momentum=0.1, affine=True, track_running_stats=True)\n",
       "      (nl_1): ELU(alpha=1.0)\n",
       "      (conv_2): Conv2d(32, 64, kernel_size=(3, 3), stride=(2, 2))\n",
       "      (bn_2): BatchNorm2d(64, eps=1e-05, momentum=0.1, affine=True, track_running_stats=True)\n",
       "      (nl_2): ELU(alpha=1.0)\n",
       "      (conv_3): Conv2d(64, 16, kernel_size=(5, 5), stride=(1, 1))\n",
       "    )\n",
       "    (Decoder): ConvDecoder(\n",
       "      (conv_0): ConvTranspose2d(8, 32, kernel_size=(4, 4), stride=(1, 1))\n",
       "      (bn_0): BatchNorm2d(32, eps=1e-05, momentum=0.1, affine=True, track_running_stats=True)\n",
       "      (nl_0): ELU(alpha=1.0)\n",
       "      (conv_1): ConvTranspose2d(32, 16, kernel_size=(5, 5), stride=(2, 2))\n",
       "      (bn_1): BatchNorm2d(16, eps=1e-05, momentum=0.1, affine=True, track_running_stats=True)\n",
       "      (nl_1): ELU(alpha=1.0)\n",
       "      (conv_2): ConvTranspose2d(16, 16, kernel_size=(5, 5), stride=(2, 2))\n",
       "      (bn_2): BatchNorm2d(16, eps=1e-05, momentum=0.1, affine=True, track_running_stats=True)\n",
       "      (nl_2): ELU(alpha=1.0)\n",
       "      (conv_3): ConvTranspose2d(16, 1, kernel_size=(4, 4), stride=(1, 1))\n",
       "      (nl_3): LinearActFct\n",
       "    )\n",
       "    (latent_act_fct): LinearActFct\n",
       "  )\n",
       "  (VAE_5): VariationalAutoEncoder(\n",
       "    (Encoder): ConvEncoder(\n",
       "      (conv_0): Conv2d(1, 32, kernel_size=(5, 5), stride=(1, 1))\n",
       "      (bn_0): BatchNorm2d(32, eps=1e-05, momentum=0.1, affine=True, track_running_stats=True)\n",
       "      (nl_0): ELU(alpha=1.0)\n",
       "      (conv_1): Conv2d(32, 32, kernel_size=(4, 4), stride=(2, 2))\n",
       "      (bn_1): BatchNorm2d(32, eps=1e-05, momentum=0.1, affine=True, track_running_stats=True)\n",
       "      (nl_1): ELU(alpha=1.0)\n",
       "      (conv_2): Conv2d(32, 64, kernel_size=(3, 3), stride=(2, 2))\n",
       "      (bn_2): BatchNorm2d(64, eps=1e-05, momentum=0.1, affine=True, track_running_stats=True)\n",
       "      (nl_2): ELU(alpha=1.0)\n",
       "      (conv_3): Conv2d(64, 16, kernel_size=(5, 5), stride=(1, 1))\n",
       "    )\n",
       "    (Decoder): ConvDecoder(\n",
       "      (conv_0): ConvTranspose2d(8, 32, kernel_size=(4, 4), stride=(1, 1))\n",
       "      (bn_0): BatchNorm2d(32, eps=1e-05, momentum=0.1, affine=True, track_running_stats=True)\n",
       "      (nl_0): ELU(alpha=1.0)\n",
       "      (conv_1): ConvTranspose2d(32, 16, kernel_size=(5, 5), stride=(2, 2))\n",
       "      (bn_1): BatchNorm2d(16, eps=1e-05, momentum=0.1, affine=True, track_running_stats=True)\n",
       "      (nl_1): ELU(alpha=1.0)\n",
       "      (conv_2): ConvTranspose2d(16, 16, kernel_size=(5, 5), stride=(2, 2))\n",
       "      (bn_2): BatchNorm2d(16, eps=1e-05, momentum=0.1, affine=True, track_running_stats=True)\n",
       "      (nl_2): ELU(alpha=1.0)\n",
       "      (conv_3): ConvTranspose2d(16, 1, kernel_size=(4, 4), stride=(1, 1))\n",
       "      (nl_3): LinearActFct\n",
       "    )\n",
       "    (latent_act_fct): LinearActFct\n",
       "  )\n",
       "  (VAE_6): VariationalAutoEncoder(\n",
       "    (Encoder): ConvEncoder(\n",
       "      (conv_0): Conv2d(1, 32, kernel_size=(5, 5), stride=(1, 1))\n",
       "      (bn_0): BatchNorm2d(32, eps=1e-05, momentum=0.1, affine=True, track_running_stats=True)\n",
       "      (nl_0): ELU(alpha=1.0)\n",
       "      (conv_1): Conv2d(32, 32, kernel_size=(4, 4), stride=(2, 2))\n",
       "      (bn_1): BatchNorm2d(32, eps=1e-05, momentum=0.1, affine=True, track_running_stats=True)\n",
       "      (nl_1): ELU(alpha=1.0)\n",
       "      (conv_2): Conv2d(32, 64, kernel_size=(3, 3), stride=(2, 2))\n",
       "      (bn_2): BatchNorm2d(64, eps=1e-05, momentum=0.1, affine=True, track_running_stats=True)\n",
       "      (nl_2): ELU(alpha=1.0)\n",
       "      (conv_3): Conv2d(64, 16, kernel_size=(5, 5), stride=(1, 1))\n",
       "    )\n",
       "    (Decoder): ConvDecoder(\n",
       "      (conv_0): ConvTranspose2d(8, 32, kernel_size=(4, 4), stride=(1, 1))\n",
       "      (bn_0): BatchNorm2d(32, eps=1e-05, momentum=0.1, affine=True, track_running_stats=True)\n",
       "      (nl_0): ELU(alpha=1.0)\n",
       "      (conv_1): ConvTranspose2d(32, 16, kernel_size=(5, 5), stride=(2, 2))\n",
       "      (bn_1): BatchNorm2d(16, eps=1e-05, momentum=0.1, affine=True, track_running_stats=True)\n",
       "      (nl_1): ELU(alpha=1.0)\n",
       "      (conv_2): ConvTranspose2d(16, 16, kernel_size=(5, 5), stride=(2, 2))\n",
       "      (bn_2): BatchNorm2d(16, eps=1e-05, momentum=0.1, affine=True, track_running_stats=True)\n",
       "      (nl_2): ELU(alpha=1.0)\n",
       "      (conv_3): ConvTranspose2d(16, 1, kernel_size=(4, 4), stride=(1, 1))\n",
       "      (nl_3): LinearActFct\n",
       "    )\n",
       "    (latent_act_fct): LinearActFct\n",
       "  )\n",
       "  (VAE_7): VariationalAutoEncoder(\n",
       "    (Encoder): ConvEncoder(\n",
       "      (conv_0): Conv2d(1, 32, kernel_size=(5, 5), stride=(1, 1))\n",
       "      (bn_0): BatchNorm2d(32, eps=1e-05, momentum=0.1, affine=True, track_running_stats=True)\n",
       "      (nl_0): ELU(alpha=1.0)\n",
       "      (conv_1): Conv2d(32, 32, kernel_size=(4, 4), stride=(2, 2))\n",
       "      (bn_1): BatchNorm2d(32, eps=1e-05, momentum=0.1, affine=True, track_running_stats=True)\n",
       "      (nl_1): ELU(alpha=1.0)\n",
       "      (conv_2): Conv2d(32, 64, kernel_size=(3, 3), stride=(2, 2))\n",
       "      (bn_2): BatchNorm2d(64, eps=1e-05, momentum=0.1, affine=True, track_running_stats=True)\n",
       "      (nl_2): ELU(alpha=1.0)\n",
       "      (conv_3): Conv2d(64, 16, kernel_size=(5, 5), stride=(1, 1))\n",
       "    )\n",
       "    (Decoder): ConvDecoder(\n",
       "      (conv_0): ConvTranspose2d(8, 32, kernel_size=(4, 4), stride=(1, 1))\n",
       "      (bn_0): BatchNorm2d(32, eps=1e-05, momentum=0.1, affine=True, track_running_stats=True)\n",
       "      (nl_0): ELU(alpha=1.0)\n",
       "      (conv_1): ConvTranspose2d(32, 16, kernel_size=(5, 5), stride=(2, 2))\n",
       "      (bn_1): BatchNorm2d(16, eps=1e-05, momentum=0.1, affine=True, track_running_stats=True)\n",
       "      (nl_1): ELU(alpha=1.0)\n",
       "      (conv_2): ConvTranspose2d(16, 16, kernel_size=(5, 5), stride=(2, 2))\n",
       "      (bn_2): BatchNorm2d(16, eps=1e-05, momentum=0.1, affine=True, track_running_stats=True)\n",
       "      (nl_2): ELU(alpha=1.0)\n",
       "      (conv_3): ConvTranspose2d(16, 1, kernel_size=(4, 4), stride=(1, 1))\n",
       "      (nl_3): LinearActFct\n",
       "    )\n",
       "    (latent_act_fct): LinearActFct\n",
       "  )\n",
       "  (VAE_8): VariationalAutoEncoder(\n",
       "    (Encoder): ConvEncoder(\n",
       "      (conv_0): Conv2d(1, 32, kernel_size=(5, 5), stride=(1, 1))\n",
       "      (bn_0): BatchNorm2d(32, eps=1e-05, momentum=0.1, affine=True, track_running_stats=True)\n",
       "      (nl_0): ELU(alpha=1.0)\n",
       "      (conv_1): Conv2d(32, 32, kernel_size=(4, 4), stride=(2, 2))\n",
       "      (bn_1): BatchNorm2d(32, eps=1e-05, momentum=0.1, affine=True, track_running_stats=True)\n",
       "      (nl_1): ELU(alpha=1.0)\n",
       "      (conv_2): Conv2d(32, 64, kernel_size=(3, 3), stride=(2, 2))\n",
       "      (bn_2): BatchNorm2d(64, eps=1e-05, momentum=0.1, affine=True, track_running_stats=True)\n",
       "      (nl_2): ELU(alpha=1.0)\n",
       "      (conv_3): Conv2d(64, 16, kernel_size=(5, 5), stride=(1, 1))\n",
       "    )\n",
       "    (Decoder): ConvDecoder(\n",
       "      (conv_0): ConvTranspose2d(8, 32, kernel_size=(4, 4), stride=(1, 1))\n",
       "      (bn_0): BatchNorm2d(32, eps=1e-05, momentum=0.1, affine=True, track_running_stats=True)\n",
       "      (nl_0): ELU(alpha=1.0)\n",
       "      (conv_1): ConvTranspose2d(32, 16, kernel_size=(5, 5), stride=(2, 2))\n",
       "      (bn_1): BatchNorm2d(16, eps=1e-05, momentum=0.1, affine=True, track_running_stats=True)\n",
       "      (nl_1): ELU(alpha=1.0)\n",
       "      (conv_2): ConvTranspose2d(16, 16, kernel_size=(5, 5), stride=(2, 2))\n",
       "      (bn_2): BatchNorm2d(16, eps=1e-05, momentum=0.1, affine=True, track_running_stats=True)\n",
       "      (nl_2): ELU(alpha=1.0)\n",
       "      (conv_3): ConvTranspose2d(16, 1, kernel_size=(4, 4), stride=(1, 1))\n",
       "      (nl_3): LinearActFct\n",
       "    )\n",
       "    (latent_act_fct): LinearActFct\n",
       "  )\n",
       "  (VAE_9): VariationalAutoEncoder(\n",
       "    (Encoder): ConvEncoder(\n",
       "      (conv_0): Conv2d(1, 32, kernel_size=(5, 5), stride=(1, 1))\n",
       "      (bn_0): BatchNorm2d(32, eps=1e-05, momentum=0.1, affine=True, track_running_stats=True)\n",
       "      (nl_0): ELU(alpha=1.0)\n",
       "      (conv_1): Conv2d(32, 32, kernel_size=(4, 4), stride=(2, 2))\n",
       "      (bn_1): BatchNorm2d(32, eps=1e-05, momentum=0.1, affine=True, track_running_stats=True)\n",
       "      (nl_1): ELU(alpha=1.0)\n",
       "      (conv_2): Conv2d(32, 64, kernel_size=(3, 3), stride=(2, 2))\n",
       "      (bn_2): BatchNorm2d(64, eps=1e-05, momentum=0.1, affine=True, track_running_stats=True)\n",
       "      (nl_2): ELU(alpha=1.0)\n",
       "      (conv_3): Conv2d(64, 16, kernel_size=(5, 5), stride=(1, 1))\n",
       "    )\n",
       "    (Decoder): ConvDecoder(\n",
       "      (conv_0): ConvTranspose2d(8, 32, kernel_size=(4, 4), stride=(1, 1))\n",
       "      (bn_0): BatchNorm2d(32, eps=1e-05, momentum=0.1, affine=True, track_running_stats=True)\n",
       "      (nl_0): ELU(alpha=1.0)\n",
       "      (conv_1): ConvTranspose2d(32, 16, kernel_size=(5, 5), stride=(2, 2))\n",
       "      (bn_1): BatchNorm2d(16, eps=1e-05, momentum=0.1, affine=True, track_running_stats=True)\n",
       "      (nl_1): ELU(alpha=1.0)\n",
       "      (conv_2): ConvTranspose2d(16, 16, kernel_size=(5, 5), stride=(2, 2))\n",
       "      (bn_2): BatchNorm2d(16, eps=1e-05, momentum=0.1, affine=True, track_running_stats=True)\n",
       "      (nl_2): ELU(alpha=1.0)\n",
       "      (conv_3): ConvTranspose2d(16, 1, kernel_size=(4, 4), stride=(1, 1))\n",
       "      (nl_3): LinearActFct\n",
       "    )\n",
       "    (latent_act_fct): LinearActFct\n",
       "  )\n",
       ")"
      ]
     },
     "execution_count": 48,
     "metadata": {},
     "output_type": "execute_result"
    }
   ],
   "source": [
    "ABS_model"
   ]
  },
  {
   "cell_type": "code",
   "execution_count": null,
   "metadata": {},
   "outputs": [],
   "source": [
    "batch = u.get_batch()"
   ]
  },
  {
   "cell_type": "code",
   "execution_count": 138,
   "metadata": {},
   "outputs": [],
   "source": [
    "import numpy as np\n",
    "def predictOnBatch(model,batch, batch_size):\n",
    "    preds = []\n",
    "    labels = []\n",
    "    for i in range(batch_size):\n",
    "        point, label = u.get_batch() \n",
    "        labels.append(label[0])\n",
    "        tensorPoint = u.n2t(point)\n",
    "        logits = model(tensorPoint)[0]\n",
    "        logits = [x for x in logits]\n",
    "        pred = np.argmax(logits)\n",
    "        preds.append(int(pred))\n",
    "    return preds, labels"
   ]
  },
  {
   "cell_type": "code",
   "execution_count": 140,
   "metadata": {},
   "outputs": [],
   "source": [
    "preds, labels = predictOnBatch(ABS_model, batch, 5)"
   ]
  },
  {
   "cell_type": "code",
   "execution_count": 141,
   "metadata": {},
   "outputs": [
    {
     "data": {
      "text/plain": [
       "[4, 4, 9, 1, 8]"
      ]
     },
     "execution_count": 141,
     "metadata": {},
     "output_type": "execute_result"
    }
   ],
   "source": [
    "preds"
   ]
  },
  {
   "cell_type": "code",
   "execution_count": 142,
   "metadata": {},
   "outputs": [
    {
     "data": {
      "text/plain": [
       "[4, 4, 9, 1, 8]"
      ]
     },
     "execution_count": 142,
     "metadata": {},
     "output_type": "execute_result"
    }
   ],
   "source": [
    "labels"
   ]
  },
  {
   "cell_type": "code",
   "execution_count": 99,
   "metadata": {},
   "outputs": [],
   "source": [
    "import foolbox\n",
    "if ABS_model.code_base == 'tensorflow':\n",
    "    fmodel = foolbox.models.TensorFlowModel(ABS_model.x_input, ABS_model.pre_softmax, (0., 1.),\n",
    "                                            channel_axis=3)\n",
    "elif ABS_model.code_base == 'pytorch':\n",
    "    ABS_model.eval()\n",
    "    fmodel = foolbox.models.PyTorchModel(ABS_model,\n",
    "                                         bounds=(0., 1.), num_classes=10,\n",
    "                                         device=u.dev())"
   ]
  },
  {
   "cell_type": "markdown",
   "metadata": {},
   "source": [
    "Boundary Attack"
   ]
  },
  {
   "cell_type": "code",
   "execution_count": 104,
   "metadata": {},
   "outputs": [],
   "source": [
    "from foolbox import attacks as fa\n",
    "b, l = u.get_batch(bs=1)"
   ]
  },
  {
   "cell_type": "code",
   "execution_count": 105,
   "metadata": {},
   "outputs": [],
   "source": [
    "att = fa.DeepFoolL2Attack(fmodel)\n",
    "metric = foolbox.distances.MSE\n",
    "criterion = foolbox.criteria.Misclassification()"
   ]
  },
  {
   "cell_type": "code",
   "execution_count": 118,
   "metadata": {},
   "outputs": [
    {
     "data": {
      "image/png": "[encoded data removed]",
      "text/plain": [
       "<Figure size 432x288 with 1 Axes>"
      ]
     },
     "metadata": {},
     "output_type": "display_data"
    }
   ],
   "source": [
    "from matplotlib import pyplot as plt\n",
    "plt.imshow(b[0, 0], cmap='gray')\n",
    "plt.title('original image')\n",
    "plt.axis('off')\n",
    "plt.show()"
   ]
  },
  {
   "cell_type": "code",
   "execution_count": null,
   "metadata": {},
   "outputs": [],
   "source": [
    "GE = foolbox.gradient_estimators.CoordinateWiseGradientEstimator(0.1)\n",
    "fmodel = foolbox.models.ModelWithEstimatedGradients(fmodel, GE)\n",
    "\n",
    "a = foolbox.adversarial.Adversarial(fmodel, criterion, b[0], l[0], distance=metric)\n",
    "att(a)   "
   ]
  },
  {
   "cell_type": "code",
   "execution_count": 119,
   "metadata": {},
   "outputs": [
    {
     "data": {
      "image/png": "[encoded data removed]",
      "text/plain": [
       "<Figure size 432x288 with 1 Axes>"
      ]
     },
     "metadata": {},
     "output_type": "display_data"
    },
    {
     "name": "stdout",
     "output_type": "stream",
     "text": [
      "Model prediction: 3\n"
     ]
    }
   ],
   "source": [
    "plt.imshow(a.image[0], cmap='gray')\n",
    "plt.title('adversarial image')\n",
    "plt.axis('off')\n",
    "plt.show()\n",
    "print('Model prediction:', np.argmax(fmodel.predictions(a.image)))"
   ]
  },
  {
   "cell_type": "code",
   "execution_count": 120,
   "metadata": {},
   "outputs": [
    {
     "name": "stdout",
     "output_type": "stream",
     "text": [
      "path /Users/etsukerman/Desktop/B_Code/AnalysisBySynthesis/abs_models/../exp/mnist_cnn/nets//vanilla_cnn.net\n",
      "model loaded\n"
     ]
    }
   ],
   "source": [
    "from abs_models import models as mz \n",
    "traditional_model = mz.get_CNN()              "
   ]
  },
  {
   "cell_type": "code",
   "execution_count": 121,
   "metadata": {},
   "outputs": [
    {
     "data": {
      "text/plain": [
       "CNN(\n",
       "  (net): NN(\n",
       "    (conv_0): Conv2d(1, 20, kernel_size=(5, 5), stride=(1, 1))\n",
       "    (bn_0): BatchNorm2d(20, eps=1e-05, momentum=0.1, affine=True, track_running_stats=True)\n",
       "    (nl_0): ELU(alpha=1.0)\n",
       "    (conv_1): Conv2d(20, 70, kernel_size=(4, 4), stride=(2, 2))\n",
       "    (bn_1): BatchNorm2d(70, eps=1e-05, momentum=0.1, affine=True, track_running_stats=True)\n",
       "    (nl_1): ELU(alpha=1.0)\n",
       "    (conv_2): Conv2d(70, 256, kernel_size=(3, 3), stride=(2, 2))\n",
       "    (bn_2): BatchNorm2d(256, eps=1e-05, momentum=0.1, affine=True, track_running_stats=True)\n",
       "    (nl_2): ELU(alpha=1.0)\n",
       "    (conv_3): Conv2d(256, 10, kernel_size=(5, 5), stride=(1, 1))\n",
       "  )\n",
       "  (model): NN(\n",
       "    (conv_0): Conv2d(1, 20, kernel_size=(5, 5), stride=(1, 1))\n",
       "    (bn_0): BatchNorm2d(20, eps=1e-05, momentum=0.1, affine=True, track_running_stats=True)\n",
       "    (nl_0): ELU(alpha=1.0)\n",
       "    (conv_1): Conv2d(20, 70, kernel_size=(4, 4), stride=(2, 2))\n",
       "    (bn_1): BatchNorm2d(70, eps=1e-05, momentum=0.1, affine=True, track_running_stats=True)\n",
       "    (nl_1): ELU(alpha=1.0)\n",
       "    (conv_2): Conv2d(70, 256, kernel_size=(3, 3), stride=(2, 2))\n",
       "    (bn_2): BatchNorm2d(256, eps=1e-05, momentum=0.1, affine=True, track_running_stats=True)\n",
       "    (nl_2): ELU(alpha=1.0)\n",
       "    (conv_3): Conv2d(256, 10, kernel_size=(5, 5), stride=(1, 1))\n",
       "  )\n",
       ")"
      ]
     },
     "execution_count": 121,
     "metadata": {},
     "output_type": "execute_result"
    }
   ],
   "source": [
    "traditional_model"
   ]
  },
  {
   "cell_type": "code",
   "execution_count": 143,
   "metadata": {},
   "outputs": [],
   "source": [
    "preds, labels = predictOnBatch(traditional_model, batch, 5)"
   ]
  },
  {
   "cell_type": "code",
   "execution_count": 144,
   "metadata": {},
   "outputs": [
    {
     "data": {
      "text/plain": [
       "[7, 9, 5, 3, 3]"
      ]
     },
     "execution_count": 144,
     "metadata": {},
     "output_type": "execute_result"
    }
   ],
   "source": [
    "preds"
   ]
  },
  {
   "cell_type": "code",
   "execution_count": 145,
   "metadata": {},
   "outputs": [
    {
     "data": {
      "text/plain": [
       "[7, 9, 5, 3, 3]"
      ]
     },
     "execution_count": 145,
     "metadata": {},
     "output_type": "execute_result"
    }
   ],
   "source": [
    "labels"
   ]
  },
  {
   "cell_type": "code",
   "execution_count": 146,
   "metadata": {},
   "outputs": [],
   "source": [
    "if traditional_model.code_base == 'tensorflow':\n",
    "    fmodel_traditional = foolbox.models.TensorFlowModel(traditional_model.x_input, traditional_model.pre_softmax, (0., 1.),\n",
    "                                            channel_axis=3)\n",
    "elif traditional_model.code_base == 'pytorch':\n",
    "    traditional_model.eval()\n",
    "    fmodel_traditional = foolbox.models.PyTorchModel(traditional_model,\n",
    "                                         bounds=(0., 1.), num_classes=10,\n",
    "                                         device=u.dev())"
   ]
  },
  {
   "cell_type": "code",
   "execution_count": 147,
   "metadata": {},
   "outputs": [
    {
     "data": {
      "text/plain": [
       "array([[[6.92458241e-04, 1.91435538e-04, 0.00000000e+00, 0.00000000e+00,\n",
       "         0.00000000e+00, 0.00000000e+00, 0.00000000e+00, 1.11729931e-03,\n",
       "         0.00000000e+00, 8.21686629e-03, 7.44214980e-03, 1.03241522e-02,\n",
       "         0.00000000e+00, 6.72576204e-03, 1.25210797e-02, 1.64709352e-02,\n",
       "         0.00000000e+00, 4.14287811e-03, 7.24921888e-03, 7.37335300e-03,\n",
       "         0.00000000e+00, 0.00000000e+00, 1.89051940e-03, 0.00000000e+00,\n",
       "         0.00000000e+00, 0.00000000e+00, 0.00000000e+00, 0.00000000e+00],\n",
       "        [0.00000000e+00, 7.10405293e-04, 3.29039176e-03, 6.40570605e-03,\n",
       "         5.56817511e-03, 7.44065410e-03, 1.39255328e-02, 2.10460369e-02,\n",
       "         1.88744403e-02, 2.98625417e-02, 3.12833525e-02, 4.15116921e-02,\n",
       "         2.64795162e-02, 3.55158709e-02, 3.98425199e-02, 4.85589132e-02,\n",
       "         2.48508193e-02, 2.73649059e-02, 2.76400931e-02, 2.36019995e-02,\n",
       "         0.00000000e+00, 0.00000000e+00, 0.00000000e+00, 0.00000000e+00,\n",
       "         0.00000000e+00, 0.00000000e+00, 0.00000000e+00, 0.00000000e+00],\n",
       "        [0.00000000e+00, 0.00000000e+00, 0.00000000e+00, 6.00339193e-03,\n",
       "         4.39563300e-03, 5.13595017e-03, 9.75134131e-03, 1.67566855e-02,\n",
       "         9.60178208e-03, 2.38771904e-02, 3.81810144e-02, 6.38902038e-02,\n",
       "         5.57661615e-02, 6.43074736e-02, 6.73210025e-02, 7.97628090e-02,\n",
       "         4.90494668e-02, 5.29873557e-02, 6.55562952e-02, 4.10675034e-02,\n",
       "         0.00000000e+00, 5.10304701e-03, 4.83169075e-04, 0.00000000e+00,\n",
       "         0.00000000e+00, 0.00000000e+00, 0.00000000e+00, 0.00000000e+00],\n",
       "        [0.00000000e+00, 0.00000000e+00, 0.00000000e+00, 7.48253055e-03,\n",
       "         2.29872181e-03, 1.67805201e-03, 4.19363426e-03, 2.07976755e-02,\n",
       "         2.74590328e-02, 3.62426341e-02, 5.66694029e-02, 8.30097347e-02,\n",
       "         7.64545649e-02, 7.83719122e-02, 6.92473128e-02, 7.04153776e-02,\n",
       "         5.78793362e-02, 7.03480765e-02, 8.16996023e-02, 7.68703446e-02,\n",
       "         8.89412537e-02, 7.86829963e-02, 4.46957126e-02, 1.74490493e-02,\n",
       "         1.27872953e-03, 7.21771782e-03, 9.52401198e-03, 7.94466771e-03],\n",
       "        [0.00000000e+00, 0.00000000e+00, 0.00000000e+00, 1.21068954e-02,\n",
       "         0.00000000e+00, 3.15868622e-03, 0.00000000e+00, 2.85523105e-02,\n",
       "         4.84272055e-02, 4.61868122e-02, 8.04343298e-02, 1.11152254e-01,\n",
       "         1.12791419e-01, 9.88734588e-02, 6.35325760e-02, 3.74659337e-02,\n",
       "         3.59001420e-02, 4.21457291e-02, 4.79606800e-02, 9.08226967e-02,\n",
       "         1.45734787e-01, 1.12519227e-01, 5.41463457e-02, 2.41642483e-02,\n",
       "         2.27673687e-02, 2.76818760e-02, 2.01367177e-02, 1.77766774e-02],\n",
       "        [0.00000000e+00, 0.00000000e+00, 0.00000000e+00, 1.18091786e-02,\n",
       "         6.15883991e-03, 1.73054729e-02, 1.32718664e-02, 1.38566419e-02,\n",
       "         1.66309625e-02, 2.97682248e-02, 9.12788585e-02, 1.16349339e-01,\n",
       "         9.99621600e-02, 7.82805905e-02, 4.85198386e-02, 1.26167974e-02,\n",
       "         1.34650609e-02, 7.39471614e-02, 2.37682804e-01, 6.84669197e-01,\n",
       "         8.32956851e-01, 7.09799767e-01, 3.90886813e-02, 0.00000000e+00,\n",
       "         2.67710624e-04, 6.08714530e-03, 1.06038274e-02, 1.17419716e-02],\n",
       "        [0.00000000e+00, 0.00000000e+00, 0.00000000e+00, 7.32540013e-03,\n",
       "         1.20036062e-02, 1.66608747e-02, 1.73563231e-02, 3.83618847e-03,\n",
       "         3.17977406e-02, 5.96022569e-02, 4.67641093e-02, 0.00000000e+00,\n",
       "         0.00000000e+00, 0.00000000e+00, 0.00000000e+00, 4.76375878e-01,\n",
       "         7.43346274e-01, 9.99434292e-01, 9.72247660e-01, 9.26862359e-01,\n",
       "         8.93041074e-01, 6.99272096e-01, 7.26095662e-02, 0.00000000e+00,\n",
       "         0.00000000e+00, 0.00000000e+00, 0.00000000e+00, 0.00000000e+00],\n",
       "        [0.00000000e+00, 0.00000000e+00, 0.00000000e+00, 0.00000000e+00,\n",
       "         0.00000000e+00, 0.00000000e+00, 0.00000000e+00, 0.00000000e+00,\n",
       "         0.00000000e+00, 0.00000000e+00, 0.00000000e+00, 0.00000000e+00,\n",
       "         0.00000000e+00, 1.46936506e-01, 7.82770514e-01, 9.90927517e-01,\n",
       "         9.79747176e-01, 8.08914959e-01, 9.41064119e-01, 9.54188108e-01,\n",
       "         9.15941119e-01, 2.84180164e-01, 0.00000000e+00, 0.00000000e+00,\n",
       "         0.00000000e+00, 0.00000000e+00, 0.00000000e+00, 0.00000000e+00],\n",
       "        [0.00000000e+00, 0.00000000e+00, 1.35360251e-03, 9.76031460e-03,\n",
       "         0.00000000e+00, 2.09083501e-03, 0.00000000e+00, 9.79611464e-03,\n",
       "         3.61318663e-02, 0.00000000e+00, 0.00000000e+00, 3.12225521e-01,\n",
       "         9.22840774e-01, 1.00000000e+00, 1.00000000e+00, 1.00000000e+00,\n",
       "         9.53430057e-01, 5.01189649e-01, 9.85797107e-01, 8.94020736e-01,\n",
       "         3.67548674e-01, 4.55767997e-02, 5.40281908e-05, 0.00000000e+00,\n",
       "         0.00000000e+00, 0.00000000e+00, 0.00000000e+00, 0.00000000e+00],\n",
       "        [1.45530270e-03, 7.83698540e-03, 1.48557900e-02, 2.50093527e-02,\n",
       "         2.61578709e-03, 7.40167545e-03, 0.00000000e+00, 0.00000000e+00,\n",
       "         9.72423330e-03, 0.00000000e+00, 4.42039371e-01, 1.00000000e+00,\n",
       "         1.00000000e+00, 1.00000000e+00, 3.88347507e-01, 4.41123247e-01,\n",
       "         9.80857611e-01, 9.81648743e-01, 1.00000000e+00, 4.45005059e-01,\n",
       "         9.15676951e-02, 7.64233470e-02, 3.64522040e-02, 5.07098506e-04,\n",
       "         0.00000000e+00, 0.00000000e+00, 0.00000000e+00, 0.00000000e+00],\n",
       "        [0.00000000e+00, 4.35525225e-03, 6.42066216e-03, 1.67625751e-02,\n",
       "         0.00000000e+00, 0.00000000e+00, 0.00000000e+00, 0.00000000e+00,\n",
       "         0.00000000e+00, 2.77580582e-02, 1.00000000e+00, 1.00000000e+00,\n",
       "         1.00000000e+00, 1.06303364e-01, 0.00000000e+00, 0.00000000e+00,\n",
       "         9.53998506e-01, 9.73967075e-01, 5.38818061e-01, 4.09615040e-02,\n",
       "         6.09754883e-02, 2.01936457e-02, 8.53692181e-03, 5.00293588e-03,\n",
       "         4.98648454e-03, 1.79263297e-02, 1.01297256e-02, 9.39539075e-03],\n",
       "        [0.00000000e+00, 0.00000000e+00, 0.00000000e+00, 1.32270921e-02,\n",
       "         0.00000000e+00, 0.00000000e+00, 0.00000000e+00, 0.00000000e+00,\n",
       "         0.00000000e+00, 6.78311810e-02, 1.00000000e+00, 9.71743345e-01,\n",
       "         5.23098946e-01, 0.00000000e+00, 2.24274039e-01, 8.91178191e-01,\n",
       "         9.62428927e-01, 6.32007957e-01, 5.42319659e-03, 4.05183388e-03,\n",
       "         0.00000000e+00, 0.00000000e+00, 0.00000000e+00, 0.00000000e+00,\n",
       "         0.00000000e+00, 1.00744814e-02, 7.25211622e-03, 1.09222950e-02],\n",
       "        [0.00000000e+00, 0.00000000e+00, 0.00000000e+00, 0.00000000e+00,\n",
       "         0.00000000e+00, 0.00000000e+00, 0.00000000e+00, 0.00000000e+00,\n",
       "         0.00000000e+00, 2.39849649e-02, 2.14520097e-01, 0.00000000e+00,\n",
       "         3.40516210e-01, 7.04270244e-01, 1.00000000e+00, 9.93894458e-01,\n",
       "         6.51154518e-01, 7.42708743e-02, 0.00000000e+00, 0.00000000e+00,\n",
       "         0.00000000e+00, 0.00000000e+00, 0.00000000e+00, 0.00000000e+00,\n",
       "         0.00000000e+00, 0.00000000e+00, 0.00000000e+00, 2.66514160e-03],\n",
       "        [0.00000000e+00, 0.00000000e+00, 0.00000000e+00, 0.00000000e+00,\n",
       "         0.00000000e+00, 0.00000000e+00, 0.00000000e+00, 0.00000000e+00,\n",
       "         0.00000000e+00, 0.00000000e+00, 0.00000000e+00, 0.00000000e+00,\n",
       "         8.75771046e-03, 9.72426832e-01, 1.00000000e+00, 7.01150358e-01,\n",
       "         9.55850352e-03, 2.15606149e-02, 0.00000000e+00, 0.00000000e+00,\n",
       "         0.00000000e+00, 0.00000000e+00, 0.00000000e+00, 0.00000000e+00,\n",
       "         0.00000000e+00, 0.00000000e+00, 0.00000000e+00, 0.00000000e+00],\n",
       "        [0.00000000e+00, 0.00000000e+00, 0.00000000e+00, 0.00000000e+00,\n",
       "         0.00000000e+00, 0.00000000e+00, 0.00000000e+00, 0.00000000e+00,\n",
       "         0.00000000e+00, 0.00000000e+00, 0.00000000e+00, 0.00000000e+00,\n",
       "         8.71512115e-01, 9.97297049e-01, 1.00000000e+00, 8.68043900e-01,\n",
       "         2.80066077e-02, 1.42053012e-02, 0.00000000e+00, 0.00000000e+00,\n",
       "         0.00000000e+00, 0.00000000e+00, 0.00000000e+00, 0.00000000e+00,\n",
       "         0.00000000e+00, 0.00000000e+00, 0.00000000e+00, 0.00000000e+00],\n",
       "        [0.00000000e+00, 0.00000000e+00, 0.00000000e+00, 0.00000000e+00,\n",
       "         0.00000000e+00, 0.00000000e+00, 0.00000000e+00, 1.26211913e-02,\n",
       "         0.00000000e+00, 0.00000000e+00, 1.90239519e-01, 8.82303536e-01,\n",
       "         1.00000000e+00, 5.84867179e-01, 3.87804806e-01, 9.90374029e-01,\n",
       "         6.29478931e-01, 3.68532096e-03, 0.00000000e+00, 0.00000000e+00,\n",
       "         0.00000000e+00, 0.00000000e+00, 2.75646592e-03, 7.67994905e-03,\n",
       "         3.81983072e-03, 6.68528781e-04, 4.17269650e-04, 0.00000000e+00],\n",
       "        [1.45380700e-03, 0.00000000e+00, 0.00000000e+00, 0.00000000e+00,\n",
       "         0.00000000e+00, 0.00000000e+00, 0.00000000e+00, 0.00000000e+00,\n",
       "         0.00000000e+00, 2.26299614e-02, 1.00000000e+00, 1.00000000e+00,\n",
       "         8.14127743e-01, 3.88790481e-03, 0.00000000e+00, 9.94307578e-01,\n",
       "         9.36751604e-01, 1.36309015e-02, 0.00000000e+00, 0.00000000e+00,\n",
       "         0.00000000e+00, 0.00000000e+00, 0.00000000e+00, 8.95419065e-03,\n",
       "         9.42530297e-03, 6.68238988e-03, 7.40410585e-04, 0.00000000e+00],\n",
       "        [2.58587534e-03, 0.00000000e+00, 3.45041975e-03, 8.22434388e-03,\n",
       "         8.18274741e-04, 0.00000000e+00, 0.00000000e+00, 0.00000000e+00,\n",
       "         4.39391285e-02, 5.12690187e-01, 1.00000000e+00, 9.70480323e-01,\n",
       "         1.98347360e-01, 2.81012035e-03, 0.00000000e+00, 9.99730825e-01,\n",
       "         9.95629132e-01, 1.27737105e-01, 0.00000000e+00, 0.00000000e+00,\n",
       "         0.00000000e+00, 0.00000000e+00, 0.00000000e+00, 0.00000000e+00,\n",
       "         6.49992796e-03, 2.58148205e-03, 0.00000000e+00, 0.00000000e+00],\n",
       "        [2.11027754e-03, 2.39294422e-05, 4.98639047e-03, 1.15326820e-02,\n",
       "         0.00000000e+00, 0.00000000e+00, 0.00000000e+00, 4.27800454e-02,\n",
       "         9.45594758e-02, 7.96319962e-01, 9.28498507e-01, 3.23413014e-01,\n",
       "         0.00000000e+00, 0.00000000e+00, 0.00000000e+00, 1.00000000e+00,\n",
       "         1.00000000e+00, 1.98399097e-01, 0.00000000e+00, 0.00000000e+00,\n",
       "         3.02417669e-03, 0.00000000e+00, 0.00000000e+00, 1.00298013e-04,\n",
       "         2.28535524e-03, 2.62784516e-03, 2.13962863e-04, 1.30209810e-04],\n",
       "        [1.35799579e-03, 0.00000000e+00, 5.62201673e-03, 2.05344521e-03,\n",
       "         0.00000000e+00, 0.00000000e+00, 1.72158312e-02, 1.03556532e-02,\n",
       "         5.27993083e-01, 9.06978488e-01, 9.25958514e-01, 2.95832977e-02,\n",
       "         0.00000000e+00, 0.00000000e+00, 2.02827647e-01, 1.00000000e+00,\n",
       "         1.00000000e+00, 1.47816405e-01, 0.00000000e+00, 0.00000000e+00,\n",
       "         1.03211608e-02, 1.16746696e-02, 9.32201277e-03, 8.13152362e-03,\n",
       "         4.03070869e-03, 4.94451448e-03, 1.05298893e-03, 1.72086337e-04],\n",
       "        [3.17962444e-03, 1.36098696e-03, 8.20190925e-03, 7.47505296e-03,\n",
       "         0.00000000e+00, 1.67492069e-02, 1.19034955e-02, 1.11618191e-02,\n",
       "         8.20294142e-01, 9.32686329e-01, 3.43525231e-01, 0.00000000e+00,\n",
       "         0.00000000e+00, 5.89755103e-02, 5.85434139e-01, 1.00000000e+00,\n",
       "         9.07721698e-01, 0.00000000e+00, 0.00000000e+00, 0.00000000e+00,\n",
       "         2.66523496e-03, 0.00000000e+00, 0.00000000e+00, 0.00000000e+00,\n",
       "         1.29826565e-03, 2.21655797e-03, 0.00000000e+00, 0.00000000e+00],\n",
       "        [1.46119157e-03, 2.82816077e-03, 1.11227036e-02, 2.49974802e-02,\n",
       "         2.22680289e-02, 9.34005342e-03, 0.00000000e+00, 3.26870322e-01,\n",
       "         9.50547934e-01, 9.97945011e-01, 3.06009091e-02, 0.00000000e+00,\n",
       "         8.77417848e-02, 2.48371929e-01, 9.97171342e-01, 1.00000000e+00,\n",
       "         3.77402604e-01, 0.00000000e+00, 0.00000000e+00, 0.00000000e+00,\n",
       "         0.00000000e+00, 0.00000000e+00, 0.00000000e+00, 0.00000000e+00,\n",
       "         0.00000000e+00, 4.64567674e-05, 0.00000000e+00, 0.00000000e+00],\n",
       "        [0.00000000e+00, 0.00000000e+00, 0.00000000e+00, 1.79441832e-02,\n",
       "         2.31758524e-02, 2.45546922e-02, 1.31297857e-02, 4.76638556e-01,\n",
       "         9.88190532e-01, 9.13231611e-01, 0.00000000e+00, 2.98488513e-02,\n",
       "         4.34411615e-01, 8.50336492e-01, 9.74602938e-01, 6.91861510e-01,\n",
       "         0.00000000e+00, 0.00000000e+00, 0.00000000e+00, 0.00000000e+00,\n",
       "         0.00000000e+00, 0.00000000e+00, 0.00000000e+00, 0.00000000e+00,\n",
       "         0.00000000e+00, 1.61981757e-03, 0.00000000e+00, 0.00000000e+00],\n",
       "        [0.00000000e+00, 0.00000000e+00, 0.00000000e+00, 0.00000000e+00,\n",
       "         0.00000000e+00, 1.25107048e-02, 2.70882212e-02, 1.67944342e-01,\n",
       "         9.77010429e-01, 9.57897365e-01, 8.11711073e-01, 8.72037709e-01,\n",
       "         9.89363015e-01, 9.73150790e-01, 7.09890366e-01, 6.47769123e-02,\n",
       "         0.00000000e+00, 0.00000000e+00, 0.00000000e+00, 0.00000000e+00,\n",
       "         0.00000000e+00, 0.00000000e+00, 0.00000000e+00, 0.00000000e+00,\n",
       "         0.00000000e+00, 8.28650373e-04, 2.81928084e-03, 2.87760864e-03],\n",
       "        [0.00000000e+00, 0.00000000e+00, 0.00000000e+00, 0.00000000e+00,\n",
       "         0.00000000e+00, 0.00000000e+00, 0.00000000e+00, 0.00000000e+00,\n",
       "         3.36954832e-01, 8.54901016e-01, 9.47688520e-01, 8.80092382e-01,\n",
       "         6.27755880e-01, 2.23886028e-01, 2.55344361e-02, 0.00000000e+00,\n",
       "         0.00000000e+00, 0.00000000e+00, 3.23355920e-03, 0.00000000e+00,\n",
       "         0.00000000e+00, 0.00000000e+00, 1.85612077e-03, 1.45530270e-03,\n",
       "         0.00000000e+00, 2.14916281e-03, 4.94292565e-03, 6.75857207e-03],\n",
       "        [0.00000000e+00, 0.00000000e+00, 0.00000000e+00, 0.00000000e+00,\n",
       "         0.00000000e+00, 4.43750899e-03, 0.00000000e+00, 0.00000000e+00,\n",
       "         4.63492703e-03, 0.00000000e+00, 0.00000000e+00, 0.00000000e+00,\n",
       "         1.58547498e-02, 1.29906954e-02, 0.00000000e+00, 0.00000000e+00,\n",
       "         0.00000000e+00, 0.00000000e+00, 0.00000000e+00, 0.00000000e+00,\n",
       "         0.00000000e+00, 0.00000000e+00, 0.00000000e+00, 0.00000000e+00,\n",
       "         0.00000000e+00, 0.00000000e+00, 5.08500634e-05, 2.01605540e-03],\n",
       "        [4.33721114e-04, 1.04691309e-03, 1.29667658e-03, 4.25495394e-03,\n",
       "         7.07264571e-03, 1.11256950e-02, 8.11806321e-03, 0.00000000e+00,\n",
       "         0.00000000e+00, 0.00000000e+00, 0.00000000e+00, 0.00000000e+00,\n",
       "         0.00000000e+00, 0.00000000e+00, 0.00000000e+00, 0.00000000e+00,\n",
       "         0.00000000e+00, 0.00000000e+00, 0.00000000e+00, 0.00000000e+00,\n",
       "         0.00000000e+00, 0.00000000e+00, 0.00000000e+00, 0.00000000e+00,\n",
       "         0.00000000e+00, 0.00000000e+00, 0.00000000e+00, 8.07618708e-05],\n",
       "        [1.98913476e-04, 9.09318798e-04, 2.41836929e-03, 4.98928875e-03,\n",
       "         9.23078228e-03, 1.43202748e-02, 1.87038500e-02, 1.87502131e-02,\n",
       "         1.52131431e-02, 8.61609448e-03, 2.58437986e-03, 0.00000000e+00,\n",
       "         0.00000000e+00, 0.00000000e+00, 0.00000000e+00, 0.00000000e+00,\n",
       "         0.00000000e+00, 0.00000000e+00, 0.00000000e+00, 0.00000000e+00,\n",
       "         0.00000000e+00, 0.00000000e+00, 0.00000000e+00, 0.00000000e+00,\n",
       "         1.64514917e-04, 9.46708547e-04, 7.23865640e-04, 1.85453173e-04]]],\n",
       "      dtype=float32)"
      ]
     },
     "execution_count": 147,
     "metadata": {},
     "output_type": "execute_result"
    }
   ],
   "source": [
    "fmodel_traditional = foolbox.models.ModelWithEstimatedGradients(fmodel_traditional, GE)\n",
    "\n",
    "a_traditional = foolbox.adversarial.Adversarial(fmodel_traditional, criterion, b[0], l[0], distance=metric)\n",
    "att(a_traditional)   "
   ]
  },
  {
   "cell_type": "code",
   "execution_count": 150,
   "metadata": {},
   "outputs": [
    {
     "data": {
      "image/png": "[encoded data removed]",
      "text/plain": [
       "<Figure size 432x288 with 1 Axes>"
      ]
     },
     "metadata": {},
     "output_type": "display_data"
    },
    {
     "name": "stdout",
     "output_type": "stream",
     "text": [
      "Model prediction: 3\n"
     ]
    }
   ],
   "source": [
    "plt.imshow(a_traditional.image[0], cmap='gray')\n",
    "plt.title('adversarial image')\n",
    "plt.axis('off')\n",
    "plt.show()\n",
    "print('Model prediction:', np.argmax(fmodel_traditional.predictions(a_traditional.image)))"
   ]
  },
  {
   "cell_type": "code",
   "execution_count": null,
   "metadata": {},
   "outputs": [],
   "source": []
  }
 ],
 "metadata": {
  "kernelspec": {
   "display_name": "Python 3",
   "language": "python",
   "name": "python3"
  },
  "language_info": {
   "codemirror_mode": {
    "name": "ipython",
    "version": 3
   },
   "file_extension": ".py",
   "mimetype": "text/x-python",
   "name": "python",
   "nbconvert_exporter": "python",
   "pygments_lexer": "ipython3",
   "version": "3.6.8"
  }
 },
 "nbformat": 4,
 "nbformat_minor": 2
}
